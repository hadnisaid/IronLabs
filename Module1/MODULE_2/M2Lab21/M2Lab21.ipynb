{
 "cells": [
  {
   "cell_type": "code",
   "execution_count": 1,
   "id": "2d00dc1e",
   "metadata": {},
   "outputs": [],
   "source": [
    "import pandas as pd\n",
    "import numpy as np\n",
    "import matplotlib.pyplot as plt\n",
    "import seaborn as sns"
   ]
  },
  {
   "cell_type": "code",
   "execution_count": 3,
   "id": "07bdf8b1",
   "metadata": {},
   "outputs": [
    {
     "data": {
      "text/html": [
       "<div>\n",
       "<style scoped>\n",
       "    .dataframe tbody tr th:only-of-type {\n",
       "        vertical-align: middle;\n",
       "    }\n",
       "\n",
       "    .dataframe tbody tr th {\n",
       "        vertical-align: top;\n",
       "    }\n",
       "\n",
       "    .dataframe thead th {\n",
       "        text-align: right;\n",
       "    }\n",
       "</style>\n",
       "<table border=\"1\" class=\"dataframe\">\n",
       "  <thead>\n",
       "    <tr style=\"text-align: right;\">\n",
       "      <th></th>\n",
       "      <th>Month</th>\n",
       "      <th>Passengers</th>\n",
       "    </tr>\n",
       "  </thead>\n",
       "  <tbody>\n",
       "    <tr>\n",
       "      <th>0</th>\n",
       "      <td>1949-01</td>\n",
       "      <td>112</td>\n",
       "    </tr>\n",
       "    <tr>\n",
       "      <th>1</th>\n",
       "      <td>1949-02</td>\n",
       "      <td>118</td>\n",
       "    </tr>\n",
       "    <tr>\n",
       "      <th>2</th>\n",
       "      <td>1949-03</td>\n",
       "      <td>132</td>\n",
       "    </tr>\n",
       "    <tr>\n",
       "      <th>3</th>\n",
       "      <td>1949-04</td>\n",
       "      <td>129</td>\n",
       "    </tr>\n",
       "    <tr>\n",
       "      <th>4</th>\n",
       "      <td>1949-05</td>\n",
       "      <td>121</td>\n",
       "    </tr>\n",
       "  </tbody>\n",
       "</table>\n",
       "</div>"
      ],
      "text/plain": [
       "     Month  Passengers\n",
       "0  1949-01         112\n",
       "1  1949-02         118\n",
       "2  1949-03         132\n",
       "3  1949-04         129\n",
       "4  1949-05         121"
      ]
     },
     "execution_count": 3,
     "metadata": {},
     "output_type": "execute_result"
    }
   ],
   "source": [
    "air = pd.read_excel(r'C:\\Users\\local123\\Desktop\\Ironhack\\DAFT_257\\module_2\\Lab_21_Time-Series-Models\\airlines_passengers.xlsx')\n",
    "air.head(5)"
   ]
  },
  {
   "cell_type": "code",
   "execution_count": 4,
   "id": "7e2313a2",
   "metadata": {},
   "outputs": [
    {
     "data": {
      "text/html": [
       "<div>\n",
       "<style scoped>\n",
       "    .dataframe tbody tr th:only-of-type {\n",
       "        vertical-align: middle;\n",
       "    }\n",
       "\n",
       "    .dataframe tbody tr th {\n",
       "        vertical-align: top;\n",
       "    }\n",
       "\n",
       "    .dataframe thead th {\n",
       "        text-align: right;\n",
       "    }\n",
       "</style>\n",
       "<table border=\"1\" class=\"dataframe\">\n",
       "  <thead>\n",
       "    <tr style=\"text-align: right;\">\n",
       "      <th></th>\n",
       "      <th>Month</th>\n",
       "      <th>Passengers</th>\n",
       "    </tr>\n",
       "  </thead>\n",
       "  <tbody>\n",
       "    <tr>\n",
       "      <th>139</th>\n",
       "      <td>1960-08</td>\n",
       "      <td>606</td>\n",
       "    </tr>\n",
       "    <tr>\n",
       "      <th>140</th>\n",
       "      <td>1960-09</td>\n",
       "      <td>508</td>\n",
       "    </tr>\n",
       "    <tr>\n",
       "      <th>141</th>\n",
       "      <td>1960-10</td>\n",
       "      <td>461</td>\n",
       "    </tr>\n",
       "    <tr>\n",
       "      <th>142</th>\n",
       "      <td>1960-11</td>\n",
       "      <td>390</td>\n",
       "    </tr>\n",
       "    <tr>\n",
       "      <th>143</th>\n",
       "      <td>1960-12</td>\n",
       "      <td>432</td>\n",
       "    </tr>\n",
       "  </tbody>\n",
       "</table>\n",
       "</div>"
      ],
      "text/plain": [
       "       Month  Passengers\n",
       "139  1960-08         606\n",
       "140  1960-09         508\n",
       "141  1960-10         461\n",
       "142  1960-11         390\n",
       "143  1960-12         432"
      ]
     },
     "execution_count": 4,
     "metadata": {},
     "output_type": "execute_result"
    }
   ],
   "source": [
    "air.tail(5)"
   ]
  },
  {
   "cell_type": "markdown",
   "id": "a58daa21",
   "metadata": {},
   "source": [
    "We see that the data ends in 1960. The next thing we will want to do is convert the month column into a datetime object. This will allow it to programmatically pull time values like the year or month for each record. To do this, we use the Pandas to_datetime() method. Note that this process automatically inserts the first day of each month, which is basically a dummy value since we have no daily passenger data."
   ]
  },
  {
   "cell_type": "code",
   "execution_count": 5,
   "id": "a23aca64",
   "metadata": {},
   "outputs": [
    {
     "data": {
      "text/html": [
       "<div>\n",
       "<style scoped>\n",
       "    .dataframe tbody tr th:only-of-type {\n",
       "        vertical-align: middle;\n",
       "    }\n",
       "\n",
       "    .dataframe tbody tr th {\n",
       "        vertical-align: top;\n",
       "    }\n",
       "\n",
       "    .dataframe thead th {\n",
       "        text-align: right;\n",
       "    }\n",
       "</style>\n",
       "<table border=\"1\" class=\"dataframe\">\n",
       "  <thead>\n",
       "    <tr style=\"text-align: right;\">\n",
       "      <th></th>\n",
       "      <th>Month</th>\n",
       "      <th>Passengers</th>\n",
       "    </tr>\n",
       "  </thead>\n",
       "  <tbody>\n",
       "    <tr>\n",
       "      <th>0</th>\n",
       "      <td>1949-01-01</td>\n",
       "      <td>112</td>\n",
       "    </tr>\n",
       "    <tr>\n",
       "      <th>1</th>\n",
       "      <td>1949-02-01</td>\n",
       "      <td>118</td>\n",
       "    </tr>\n",
       "    <tr>\n",
       "      <th>2</th>\n",
       "      <td>1949-03-01</td>\n",
       "      <td>132</td>\n",
       "    </tr>\n",
       "    <tr>\n",
       "      <th>3</th>\n",
       "      <td>1949-04-01</td>\n",
       "      <td>129</td>\n",
       "    </tr>\n",
       "    <tr>\n",
       "      <th>4</th>\n",
       "      <td>1949-05-01</td>\n",
       "      <td>121</td>\n",
       "    </tr>\n",
       "    <tr>\n",
       "      <th>...</th>\n",
       "      <td>...</td>\n",
       "      <td>...</td>\n",
       "    </tr>\n",
       "    <tr>\n",
       "      <th>139</th>\n",
       "      <td>1960-08-01</td>\n",
       "      <td>606</td>\n",
       "    </tr>\n",
       "    <tr>\n",
       "      <th>140</th>\n",
       "      <td>1960-09-01</td>\n",
       "      <td>508</td>\n",
       "    </tr>\n",
       "    <tr>\n",
       "      <th>141</th>\n",
       "      <td>1960-10-01</td>\n",
       "      <td>461</td>\n",
       "    </tr>\n",
       "    <tr>\n",
       "      <th>142</th>\n",
       "      <td>1960-11-01</td>\n",
       "      <td>390</td>\n",
       "    </tr>\n",
       "    <tr>\n",
       "      <th>143</th>\n",
       "      <td>1960-12-01</td>\n",
       "      <td>432</td>\n",
       "    </tr>\n",
       "  </tbody>\n",
       "</table>\n",
       "<p>144 rows × 2 columns</p>\n",
       "</div>"
      ],
      "text/plain": [
       "         Month  Passengers\n",
       "0   1949-01-01         112\n",
       "1   1949-02-01         118\n",
       "2   1949-03-01         132\n",
       "3   1949-04-01         129\n",
       "4   1949-05-01         121\n",
       "..         ...         ...\n",
       "139 1960-08-01         606\n",
       "140 1960-09-01         508\n",
       "141 1960-10-01         461\n",
       "142 1960-11-01         390\n",
       "143 1960-12-01         432\n",
       "\n",
       "[144 rows x 2 columns]"
      ]
     },
     "execution_count": 5,
     "metadata": {},
     "output_type": "execute_result"
    }
   ],
   "source": [
    "air['Month'] = pd.to_datetime(air['Month'])\n",
    "air"
   ]
  },
  {
   "cell_type": "markdown",
   "id": "ca2ac959",
   "metadata": {},
   "source": [
    "The next thing we can do is convert the month column to an index."
   ]
  },
  {
   "cell_type": "code",
   "execution_count": 6,
   "id": "d9e22ea9",
   "metadata": {},
   "outputs": [
    {
     "data": {
      "text/html": [
       "<div>\n",
       "<style scoped>\n",
       "    .dataframe tbody tr th:only-of-type {\n",
       "        vertical-align: middle;\n",
       "    }\n",
       "\n",
       "    .dataframe tbody tr th {\n",
       "        vertical-align: top;\n",
       "    }\n",
       "\n",
       "    .dataframe thead th {\n",
       "        text-align: right;\n",
       "    }\n",
       "</style>\n",
       "<table border=\"1\" class=\"dataframe\">\n",
       "  <thead>\n",
       "    <tr style=\"text-align: right;\">\n",
       "      <th></th>\n",
       "      <th>Passengers</th>\n",
       "    </tr>\n",
       "    <tr>\n",
       "      <th>Month</th>\n",
       "      <th></th>\n",
       "    </tr>\n",
       "  </thead>\n",
       "  <tbody>\n",
       "    <tr>\n",
       "      <th>1949-01-01</th>\n",
       "      <td>112</td>\n",
       "    </tr>\n",
       "    <tr>\n",
       "      <th>1949-02-01</th>\n",
       "      <td>118</td>\n",
       "    </tr>\n",
       "    <tr>\n",
       "      <th>1949-03-01</th>\n",
       "      <td>132</td>\n",
       "    </tr>\n",
       "    <tr>\n",
       "      <th>1949-04-01</th>\n",
       "      <td>129</td>\n",
       "    </tr>\n",
       "    <tr>\n",
       "      <th>1949-05-01</th>\n",
       "      <td>121</td>\n",
       "    </tr>\n",
       "    <tr>\n",
       "      <th>...</th>\n",
       "      <td>...</td>\n",
       "    </tr>\n",
       "    <tr>\n",
       "      <th>1960-08-01</th>\n",
       "      <td>606</td>\n",
       "    </tr>\n",
       "    <tr>\n",
       "      <th>1960-09-01</th>\n",
       "      <td>508</td>\n",
       "    </tr>\n",
       "    <tr>\n",
       "      <th>1960-10-01</th>\n",
       "      <td>461</td>\n",
       "    </tr>\n",
       "    <tr>\n",
       "      <th>1960-11-01</th>\n",
       "      <td>390</td>\n",
       "    </tr>\n",
       "    <tr>\n",
       "      <th>1960-12-01</th>\n",
       "      <td>432</td>\n",
       "    </tr>\n",
       "  </tbody>\n",
       "</table>\n",
       "<p>144 rows × 1 columns</p>\n",
       "</div>"
      ],
      "text/plain": [
       "            Passengers\n",
       "Month                 \n",
       "1949-01-01         112\n",
       "1949-02-01         118\n",
       "1949-03-01         132\n",
       "1949-04-01         129\n",
       "1949-05-01         121\n",
       "...                ...\n",
       "1960-08-01         606\n",
       "1960-09-01         508\n",
       "1960-10-01         461\n",
       "1960-11-01         390\n",
       "1960-12-01         432\n",
       "\n",
       "[144 rows x 1 columns]"
      ]
     },
     "execution_count": 6,
     "metadata": {},
     "output_type": "execute_result"
    }
   ],
   "source": [
    "air.set_index('Month', inplace = True)\n",
    "air"
   ]
  },
  {
   "cell_type": "markdown",
   "id": "ecd14a4c",
   "metadata": {},
   "source": [
    "Let’s generate a time series plot using Seaborn and Matplotlib. This will allow us to visualize the time series data. Import the libraries and generate the lineplot. Label the y-axis with Matplotlib “Number of Passengers”"
   ]
  },
  {
   "cell_type": "code",
   "execution_count": 7,
   "id": "d65a5129",
   "metadata": {},
   "outputs": [
    {
     "data": {
      "text/plain": [
       "<AxesSubplot:xlabel='Month'>"
      ]
     },
     "execution_count": 7,
     "metadata": {},
     "output_type": "execute_result"
    },
    {
     "data": {
      "image/png": "[encoded data removed]",
      "text/plain": [
       "<Figure size 432x288 with 1 Axes>"
      ]
     },
     "metadata": {
      "needs_background": "light"
     },
     "output_type": "display_data"
    }
   ],
   "source": [
    "air.plot.line()"
   ]
  },
  {
   "cell_type": "markdown",
   "id": "75508d1c",
   "metadata": {},
   "source": [
    "Stationarity is a key part of time series analysis. Import the augmented Dickey-Fuller test from the statsmodels package."
   ]
  },
  {
   "cell_type": "code",
   "execution_count": 8,
   "id": "0c823102",
   "metadata": {},
   "outputs": [],
   "source": [
    "from statsmodels.tsa.stattools import adfuller"
   ]
  },
  {
   "cell_type": "markdown",
   "id": "9e8a7b72",
   "metadata": {},
   "source": [
    "Let’s pass our data frame into the adfuller method. Here, we specify the autolag parameter as “AIC”, which means that the lag is chosen to minimize the information criterion"
   ]
  },
  {
   "cell_type": "code",
   "execution_count": 9,
   "id": "95f724da",
   "metadata": {},
   "outputs": [],
   "source": [
    "# H0: The time series is not stationary.\n",
    "\n",
    "result = adfuller(air,autolag='AIC')\n"
   ]
  },
  {
   "cell_type": "markdown",
   "id": "5f8a2808",
   "metadata": {},
   "source": [
    "Store our results in a dataframe display it"
   ]
  },
  {
   "cell_type": "code",
   "execution_count": 10,
   "id": "9019ecd0",
   "metadata": {},
   "outputs": [
    {
     "name": "stdout",
     "output_type": "stream",
     "text": [
      "ADF Test Statistic: 0.82\n",
      "5% Critical Value: -2.88\n",
      "p-value: 0.99\n"
     ]
    }
   ],
   "source": [
    "print('ADF Test Statistic: %.2f' % result[0])\n",
    "print('5%% Critical Value: %.2f' % result[4]['5%'])\n",
    "print('p-value: %.2f' % result[1])"
   ]
  },
  {
   "cell_type": "code",
   "execution_count": 11,
   "id": "44126936",
   "metadata": {},
   "outputs": [],
   "source": [
    "# the p-value > 0.05, you accept H0 and conclude that the time series is not stationary."
   ]
  },
  {
   "cell_type": "markdown",
   "id": "108dff5e",
   "metadata": {},
   "source": [
    "Autocorrelation Checking for autocorrelation in time series data is another important part of the analytic process. This is a measure of how correlated time series data is at a given point in time with past values, which has huge implications across many industries. For example, if our passenger data has strong autocorrelation, we can assume that high passenger numbers today suggest a strong likelihood that they will be high tomorrow as well. Please calculate and show the autocorrelation"
   ]
  },
  {
   "cell_type": "code",
   "execution_count": 12,
   "id": "a14766fe",
   "metadata": {},
   "outputs": [
    {
     "data": {
      "image/png": "[encoded data removed]",
      "text/plain": [
       "<Figure size 432x288 with 1 Axes>"
      ]
     },
     "metadata": {
      "needs_background": "light"
     },
     "output_type": "display_data"
    }
   ],
   "source": [
    "from statsmodels.graphics.tsaplots import plot_acf\n",
    "\n",
    "# Calculate the ACF (via statsmodel)\n",
    "plot_acf(air)\n",
    "# Show the data as a plot (via matplotlib)\n",
    "plt.show()"
   ]
  },
  {
   "cell_type": "markdown",
   "id": "33063555",
   "metadata": {},
   "source": [
    "Calculate partial autocorrelation"
   ]
  },
  {
   "cell_type": "markdown",
   "id": "d1f061c2",
   "metadata": {},
   "source": [
    "Calculate partial autocorrelation"
   ]
  },
  {
   "cell_type": "code",
   "execution_count": 14,
   "id": "68c07e9e",
   "metadata": {},
   "outputs": [
    {
     "data": {
      "image/png": "[encoded data removed]",
      "text/plain": [
       "<Figure size 432x288 with 1 Axes>"
      ]
     },
     "metadata": {
      "needs_background": "light"
     },
     "output_type": "display_data"
    }
   ],
   "source": [
    "\n",
    "\n",
    "from statsmodels.graphics.tsaplots import plot_acf , plot_pacf\n",
    "plot_pacf(air, alpha =0.05, lags=20)\n",
    "plt.show()"
   ]
  },
  {
   "cell_type": "markdown",
   "id": "c4f7e244",
   "metadata": {},
   "source": [
    "Decomposition Trend decomposition is another useful way to visualize the trends in time series data. To proceed, let’s import seasonal_decompose from the statsmodels package: from statsmodels.tsa.seasonal import seasonal_decompose"
   ]
  },
  {
   "cell_type": "code",
   "execution_count": 15,
   "id": "7910ac56",
   "metadata": {},
   "outputs": [],
   "source": [
    "from statsmodels.tsa.seasonal import seasonal_decompose\n",
    "from dateutil.parser import parse"
   ]
  },
  {
   "cell_type": "markdown",
   "id": "53289869",
   "metadata": {},
   "source": [
    "Next, let’s pass our data frame into the seasonal_decompose method and plot the result: decompose = decompose.plot() plt.show()"
   ]
  },
  {
   "cell_type": "code",
   "execution_count": 16,
   "id": "a1b09ed2",
   "metadata": {},
   "outputs": [
    {
     "data": {
      "image/png": "[encoded data removed]",
      "text/plain": [
       "<Figure size 720x720 with 4 Axes>"
      ]
     },
     "metadata": {
      "needs_background": "light"
     },
     "output_type": "display_data"
    }
   ],
   "source": [
    "result_mul = seasonal_decompose(air)\n",
    "\n",
    "# Plot\n",
    "plt.rcParams.update({'figure.figsize': (10,10)})\n",
    "result_mul.plot().suptitle('Decompose', fontsize=22)\n",
    "\n",
    "plt.show()"
   ]
  },
  {
   "cell_type": "code",
   "execution_count": 17,
   "id": "c104e0de",
   "metadata": {},
   "outputs": [],
   "source": [
    "# Trend: there is an increasing value in the series.\n",
    "# Seasonality: there is an seasonal repeating cycle in the series.\n",
    "# there are some Noise in the series."
   ]
  },
  {
   "cell_type": "markdown",
   "id": "4096ef3c",
   "metadata": {},
   "source": [
    "Let's check the models on our dataset. Please note, if the dataset is non-stationary, you need to make it stationary"
   ]
  },
  {
   "cell_type": "code",
   "execution_count": 18,
   "id": "210dfe4a",
   "metadata": {},
   "outputs": [
    {
     "name": "stdout",
     "output_type": "stream",
     "text": [
      "p-value: 0.054213290283824954\n"
     ]
    }
   ],
   "source": [
    "air['Diff'] = air['Passengers'].diff()\n",
    "result = adfuller(air.Diff.dropna())\n",
    "print(f'p-value: {result[1]}')"
   ]
  },
  {
   "cell_type": "code",
   "execution_count": 19,
   "id": "8909b657",
   "metadata": {},
   "outputs": [
    {
     "name": "stdout",
     "output_type": "stream",
     "text": [
      "p-value: 0.4223667747703904\n"
     ]
    }
   ],
   "source": [
    "air['Log'] = air['Passengers'].apply(np.log)\n",
    "result = adfuller(air.Log.dropna())\n",
    "print(f'p-value: {result[1]}')"
   ]
  },
  {
   "cell_type": "code",
   "execution_count": 20,
   "id": "87c9751c",
   "metadata": {},
   "outputs": [
    {
     "name": "stdout",
     "output_type": "stream",
     "text": [
      "p-value: 0.020784185571267523\n"
     ]
    }
   ],
   "source": [
    "air['Sqrt'] = np.sqrt(air['Passengers']).diff()\n",
    "result = adfuller(air.Sqrt.dropna())\n",
    "print(f'p-value: {result[1]}')\n",
    "\n",
    "# finally, the p-value is under 0.05, time serie is stationary right now"
   ]
  },
  {
   "cell_type": "code",
   "execution_count": 22,
   "id": "01ee0f8f",
   "metadata": {},
   "outputs": [],
   "source": [
    "# split data into test & train\n",
    "split_index = round(len(air)*0.7)\n",
    "train = air['Sqrt'][:split_index]\n",
    "test = air['Sqrt'][split_index:]"
   ]
  },
  {
   "cell_type": "code",
   "execution_count": 23,
   "id": "c0db0a03",
   "metadata": {},
   "outputs": [],
   "source": [
    "import warnings\n",
    "warnings.filterwarnings(\"ignore\")"
   ]
  },
  {
   "cell_type": "code",
   "execution_count": 24,
   "id": "26557413",
   "metadata": {},
   "outputs": [],
   "source": [
    "from statsmodels.tsa.arima_model import ARMA\n",
    "#mod = ARMA(air, order=(0, 1))\n",
    "mod1 = ARMA(train.dropna(), order=(0, 1))\n",
    "res1 = mod1.fit()"
   ]
  },
  {
   "cell_type": "markdown",
   "id": "e6a64d73",
   "metadata": {},
   "source": [
    "Display the output"
   ]
  },
  {
   "cell_type": "code",
   "execution_count": 25,
   "id": "a6cc09b4",
   "metadata": {},
   "outputs": [
    {
     "data": {
      "text/html": [
       "<table class=\"simpletable\">\n",
       "<caption>ARMA Model Results</caption>\n",
       "<tr>\n",
       "  <th>Dep. Variable:</th>       <td>Sqrt</td>       <th>  No. Observations:  </th>    <td>100</td>  \n",
       "</tr>\n",
       "<tr>\n",
       "  <th>Model:</th>            <td>ARMA(0, 1)</td>    <th>  Log Likelihood     </th> <td>-111.105</td>\n",
       "</tr>\n",
       "<tr>\n",
       "  <th>Method:</th>             <td>css-mle</td>     <th>  S.D. of innovations</th>   <td>0.735</td> \n",
       "</tr>\n",
       "<tr>\n",
       "  <th>Date:</th>          <td>Thu, 27 Jan 2022</td> <th>  AIC                </th>  <td>228.210</td>\n",
       "</tr>\n",
       "<tr>\n",
       "  <th>Time:</th>              <td>00:09:10</td>     <th>  BIC                </th>  <td>236.026</td>\n",
       "</tr>\n",
       "<tr>\n",
       "  <th>Sample:</th>           <td>02-01-1949</td>    <th>  HQIC               </th>  <td>231.373</td>\n",
       "</tr>\n",
       "<tr>\n",
       "  <th></th>                 <td>- 05-01-1957</td>   <th>                     </th>     <td> </td>   \n",
       "</tr>\n",
       "</table>\n",
       "<table class=\"simpletable\">\n",
       "<tr>\n",
       "       <td></td>         <th>coef</th>     <th>std err</th>      <th>z</th>      <th>P>|z|</th>  <th>[0.025</th>    <th>0.975]</th>  \n",
       "</tr>\n",
       "<tr>\n",
       "  <th>const</th>      <td>    0.0834</td> <td>    0.092</td> <td>    0.907</td> <td> 0.364</td> <td>   -0.097</td> <td>    0.264</td>\n",
       "</tr>\n",
       "<tr>\n",
       "  <th>ma.L1.Sqrt</th> <td>    0.2545</td> <td>    0.119</td> <td>    2.143</td> <td> 0.032</td> <td>    0.022</td> <td>    0.487</td>\n",
       "</tr>\n",
       "</table>\n",
       "<table class=\"simpletable\">\n",
       "<caption>Roots</caption>\n",
       "<tr>\n",
       "    <td></td>   <th>            Real</th>  <th>         Imaginary</th> <th>         Modulus</th>  <th>        Frequency</th>\n",
       "</tr>\n",
       "<tr>\n",
       "  <th>MA.1</th> <td>          -3.9288</td> <td>          +0.0000j</td> <td>           3.9288</td> <td>           0.5000</td>\n",
       "</tr>\n",
       "</table>"
      ],
      "text/plain": [
       "<class 'statsmodels.iolib.summary.Summary'>\n",
       "\"\"\"\n",
       "                              ARMA Model Results                              \n",
       "==============================================================================\n",
       "Dep. Variable:                   Sqrt   No. Observations:                  100\n",
       "Model:                     ARMA(0, 1)   Log Likelihood                -111.105\n",
       "Method:                       css-mle   S.D. of innovations              0.735\n",
       "Date:                Thu, 27 Jan 2022   AIC                            228.210\n",
       "Time:                        00:09:10   BIC                            236.026\n",
       "Sample:                    02-01-1949   HQIC                           231.373\n",
       "                         - 05-01-1957                                         \n",
       "==============================================================================\n",
       "                 coef    std err          z      P>|z|      [0.025      0.975]\n",
       "------------------------------------------------------------------------------\n",
       "const          0.0834      0.092      0.907      0.364      -0.097       0.264\n",
       "ma.L1.Sqrt     0.2545      0.119      2.143      0.032       0.022       0.487\n",
       "                                    Roots                                    \n",
       "=============================================================================\n",
       "                  Real          Imaginary           Modulus         Frequency\n",
       "-----------------------------------------------------------------------------\n",
       "MA.1           -3.9288           +0.0000j            3.9288            0.5000\n",
       "-----------------------------------------------------------------------------\n",
       "\"\"\""
      ]
     },
     "execution_count": 25,
     "metadata": {},
     "output_type": "execute_result"
    }
   ],
   "source": [
    "res1.summary()"
   ]
  },
  {
   "cell_type": "code",
   "execution_count": 28,
   "id": "27dfb047",
   "metadata": {},
   "outputs": [],
   "source": [
    "mod2 = ARMA(train.dropna(), order=(0, 2))\n",
    "res2 = mod2.fit()"
   ]
  },
  {
   "cell_type": "code",
   "execution_count": 27,
   "id": "b44509ec",
   "metadata": {},
   "outputs": [
    {
     "data": {
      "text/html": [
       "<table class=\"simpletable\">\n",
       "<caption>ARMA Model Results</caption>\n",
       "<tr>\n",
       "  <th>Dep. Variable:</th>       <td>Sqrt</td>       <th>  No. Observations:  </th>    <td>100</td>  \n",
       "</tr>\n",
       "<tr>\n",
       "  <th>Model:</th>            <td>ARMA(0, 2)</td>    <th>  Log Likelihood     </th> <td>-103.338</td>\n",
       "</tr>\n",
       "<tr>\n",
       "  <th>Method:</th>             <td>css-mle</td>     <th>  S.D. of innovations</th>   <td>0.665</td> \n",
       "</tr>\n",
       "<tr>\n",
       "  <th>Date:</th>          <td>Thu, 27 Jan 2022</td> <th>  AIC                </th>  <td>214.676</td>\n",
       "</tr>\n",
       "<tr>\n",
       "  <th>Time:</th>              <td>00:09:37</td>     <th>  BIC                </th>  <td>225.097</td>\n",
       "</tr>\n",
       "<tr>\n",
       "  <th>Sample:</th>           <td>02-01-1949</td>    <th>  HQIC               </th>  <td>218.893</td>\n",
       "</tr>\n",
       "<tr>\n",
       "  <th></th>                 <td>- 05-01-1957</td>   <th>                     </th>     <td> </td>   \n",
       "</tr>\n",
       "</table>\n",
       "<table class=\"simpletable\">\n",
       "<tr>\n",
       "       <td></td>         <th>coef</th>     <th>std err</th>      <th>z</th>      <th>P>|z|</th>  <th>[0.025</th>    <th>0.975]</th>  \n",
       "</tr>\n",
       "<tr>\n",
       "  <th>const</th>      <td>    0.0798</td> <td>    0.004</td> <td>   19.664</td> <td> 0.000</td> <td>    0.072</td> <td>    0.088</td>\n",
       "</tr>\n",
       "<tr>\n",
       "  <th>ma.L1.Sqrt</th> <td>   -0.1872</td> <td>    0.066</td> <td>   -2.817</td> <td> 0.005</td> <td>   -0.317</td> <td>   -0.057</td>\n",
       "</tr>\n",
       "<tr>\n",
       "  <th>ma.L2.Sqrt</th> <td>   -0.8128</td> <td>    0.064</td> <td>  -12.621</td> <td> 0.000</td> <td>   -0.939</td> <td>   -0.687</td>\n",
       "</tr>\n",
       "</table>\n",
       "<table class=\"simpletable\">\n",
       "<caption>Roots</caption>\n",
       "<tr>\n",
       "    <td></td>   <th>            Real</th>  <th>         Imaginary</th> <th>         Modulus</th>  <th>        Frequency</th>\n",
       "</tr>\n",
       "<tr>\n",
       "  <th>MA.1</th> <td>           1.0000</td> <td>          +0.0000j</td> <td>           1.0000</td> <td>           0.0000</td>\n",
       "</tr>\n",
       "<tr>\n",
       "  <th>MA.2</th> <td>          -1.2303</td> <td>          +0.0000j</td> <td>           1.2303</td> <td>           0.5000</td>\n",
       "</tr>\n",
       "</table>"
      ],
      "text/plain": [
       "<class 'statsmodels.iolib.summary.Summary'>\n",
       "\"\"\"\n",
       "                              ARMA Model Results                              \n",
       "==============================================================================\n",
       "Dep. Variable:                   Sqrt   No. Observations:                  100\n",
       "Model:                     ARMA(0, 2)   Log Likelihood                -103.338\n",
       "Method:                       css-mle   S.D. of innovations              0.665\n",
       "Date:                Thu, 27 Jan 2022   AIC                            214.676\n",
       "Time:                        00:09:37   BIC                            225.097\n",
       "Sample:                    02-01-1949   HQIC                           218.893\n",
       "                         - 05-01-1957                                         \n",
       "==============================================================================\n",
       "                 coef    std err          z      P>|z|      [0.025      0.975]\n",
       "------------------------------------------------------------------------------\n",
       "const          0.0798      0.004     19.664      0.000       0.072       0.088\n",
       "ma.L1.Sqrt    -0.1872      0.066     -2.817      0.005      -0.317      -0.057\n",
       "ma.L2.Sqrt    -0.8128      0.064    -12.621      0.000      -0.939      -0.687\n",
       "                                    Roots                                    \n",
       "=============================================================================\n",
       "                  Real          Imaginary           Modulus         Frequency\n",
       "-----------------------------------------------------------------------------\n",
       "MA.1            1.0000           +0.0000j            1.0000            0.0000\n",
       "MA.2           -1.2303           +0.0000j            1.2303            0.5000\n",
       "-----------------------------------------------------------------------------\n",
       "\"\"\""
      ]
     },
     "execution_count": 27,
     "metadata": {},
     "output_type": "execute_result"
    }
   ],
   "source": [
    "res2.summary()"
   ]
  },
  {
   "cell_type": "code",
   "execution_count": 29,
   "id": "ec529913",
   "metadata": {},
   "outputs": [
    {
     "data": {
      "text/html": [
       "<table class=\"simpletable\">\n",
       "<caption>ARMA Model Results</caption>\n",
       "<tr>\n",
       "  <th>Dep. Variable:</th>       <td>Sqrt</td>       <th>  No. Observations:  </th>    <td>100</td>  \n",
       "</tr>\n",
       "<tr>\n",
       "  <th>Model:</th>            <td>ARMA(2, 0)</td>    <th>  Log Likelihood     </th> <td>-110.075</td>\n",
       "</tr>\n",
       "<tr>\n",
       "  <th>Method:</th>             <td>css-mle</td>     <th>  S.D. of innovations</th>   <td>0.727</td> \n",
       "</tr>\n",
       "<tr>\n",
       "  <th>Date:</th>          <td>Thu, 27 Jan 2022</td> <th>  AIC                </th>  <td>228.150</td>\n",
       "</tr>\n",
       "<tr>\n",
       "  <th>Time:</th>              <td>00:09:51</td>     <th>  BIC                </th>  <td>238.570</td>\n",
       "</tr>\n",
       "<tr>\n",
       "  <th>Sample:</th>           <td>02-01-1949</td>    <th>  HQIC               </th>  <td>232.367</td>\n",
       "</tr>\n",
       "<tr>\n",
       "  <th></th>                 <td>- 05-01-1957</td>   <th>                     </th>     <td> </td>   \n",
       "</tr>\n",
       "</table>\n",
       "<table class=\"simpletable\">\n",
       "<tr>\n",
       "       <td></td>         <th>coef</th>     <th>std err</th>      <th>z</th>      <th>P>|z|</th>  <th>[0.025</th>    <th>0.975]</th>  \n",
       "</tr>\n",
       "<tr>\n",
       "  <th>const</th>      <td>    0.0822</td> <td>    0.074</td> <td>    1.106</td> <td> 0.269</td> <td>   -0.063</td> <td>    0.228</td>\n",
       "</tr>\n",
       "<tr>\n",
       "  <th>ar.L1.Sqrt</th> <td>    0.2045</td> <td>    0.098</td> <td>    2.088</td> <td> 0.037</td> <td>    0.013</td> <td>    0.396</td>\n",
       "</tr>\n",
       "<tr>\n",
       "  <th>ar.L2.Sqrt</th> <td>   -0.1845</td> <td>    0.098</td> <td>   -1.891</td> <td> 0.059</td> <td>   -0.376</td> <td>    0.007</td>\n",
       "</tr>\n",
       "</table>\n",
       "<table class=\"simpletable\">\n",
       "<caption>Roots</caption>\n",
       "<tr>\n",
       "    <td></td>   <th>            Real</th>  <th>         Imaginary</th> <th>         Modulus</th>  <th>        Frequency</th>\n",
       "</tr>\n",
       "<tr>\n",
       "  <th>AR.1</th> <td>           0.5541</td> <td>          -2.2612j</td> <td>           2.3281</td> <td>          -0.2118</td>\n",
       "</tr>\n",
       "<tr>\n",
       "  <th>AR.2</th> <td>           0.5541</td> <td>          +2.2612j</td> <td>           2.3281</td> <td>           0.2118</td>\n",
       "</tr>\n",
       "</table>"
      ],
      "text/plain": [
       "<class 'statsmodels.iolib.summary.Summary'>\n",
       "\"\"\"\n",
       "                              ARMA Model Results                              \n",
       "==============================================================================\n",
       "Dep. Variable:                   Sqrt   No. Observations:                  100\n",
       "Model:                     ARMA(2, 0)   Log Likelihood                -110.075\n",
       "Method:                       css-mle   S.D. of innovations              0.727\n",
       "Date:                Thu, 27 Jan 2022   AIC                            228.150\n",
       "Time:                        00:09:51   BIC                            238.570\n",
       "Sample:                    02-01-1949   HQIC                           232.367\n",
       "                         - 05-01-1957                                         \n",
       "==============================================================================\n",
       "                 coef    std err          z      P>|z|      [0.025      0.975]\n",
       "------------------------------------------------------------------------------\n",
       "const          0.0822      0.074      1.106      0.269      -0.063       0.228\n",
       "ar.L1.Sqrt     0.2045      0.098      2.088      0.037       0.013       0.396\n",
       "ar.L2.Sqrt    -0.1845      0.098     -1.891      0.059      -0.376       0.007\n",
       "                                    Roots                                    \n",
       "=============================================================================\n",
       "                  Real          Imaginary           Modulus         Frequency\n",
       "-----------------------------------------------------------------------------\n",
       "AR.1            0.5541           -2.2612j            2.3281           -0.2118\n",
       "AR.2            0.5541           +2.2612j            2.3281            0.2118\n",
       "-----------------------------------------------------------------------------\n",
       "\"\"\""
      ]
     },
     "execution_count": 29,
     "metadata": {},
     "output_type": "execute_result"
    }
   ],
   "source": [
    "mod3 = ARMA(train.dropna(), order=(2, 0))\n",
    "res3 = mod3.fit()\n",
    "res3.summary()"
   ]
  },
  {
   "cell_type": "code",
   "execution_count": 30,
   "id": "d4925418",
   "metadata": {},
   "outputs": [],
   "source": [
    "mod4 = ARMA(train.dropna(), order=(2, 2))\n",
    "res4 = mod4.fit()"
   ]
  },
  {
   "cell_type": "code",
   "execution_count": 31,
   "id": "fbb46112",
   "metadata": {},
   "outputs": [
    {
     "data": {
      "text/html": [
       "<table class=\"simpletable\">\n",
       "<caption>ARMA Model Results</caption>\n",
       "<tr>\n",
       "  <th>Dep. Variable:</th>       <td>Sqrt</td>       <th>  No. Observations:  </th>   <td>100</td>  \n",
       "</tr>\n",
       "<tr>\n",
       "  <th>Model:</th>            <td>ARMA(2, 2)</td>    <th>  Log Likelihood     </th> <td>-98.591</td>\n",
       "</tr>\n",
       "<tr>\n",
       "  <th>Method:</th>             <td>css-mle</td>     <th>  S.D. of innovations</th>  <td>0.637</td> \n",
       "</tr>\n",
       "<tr>\n",
       "  <th>Date:</th>          <td>Thu, 27 Jan 2022</td> <th>  AIC                </th> <td>209.183</td>\n",
       "</tr>\n",
       "<tr>\n",
       "  <th>Time:</th>              <td>00:10:09</td>     <th>  BIC                </th> <td>224.814</td>\n",
       "</tr>\n",
       "<tr>\n",
       "  <th>Sample:</th>           <td>02-01-1949</td>    <th>  HQIC               </th> <td>215.509</td>\n",
       "</tr>\n",
       "<tr>\n",
       "  <th></th>                 <td>- 05-01-1957</td>   <th>                     </th>    <td> </td>   \n",
       "</tr>\n",
       "</table>\n",
       "<table class=\"simpletable\">\n",
       "<tr>\n",
       "       <td></td>         <th>coef</th>     <th>std err</th>      <th>z</th>      <th>P>|z|</th>  <th>[0.025</th>    <th>0.975]</th>  \n",
       "</tr>\n",
       "<tr>\n",
       "  <th>const</th>      <td>    0.0801</td> <td>    0.006</td> <td>   13.100</td> <td> 0.000</td> <td>    0.068</td> <td>    0.092</td>\n",
       "</tr>\n",
       "<tr>\n",
       "  <th>ar.L1.Sqrt</th> <td>    0.1839</td> <td>    0.212</td> <td>    0.869</td> <td> 0.385</td> <td>   -0.231</td> <td>    0.599</td>\n",
       "</tr>\n",
       "<tr>\n",
       "  <th>ar.L2.Sqrt</th> <td>    0.2062</td> <td>    0.190</td> <td>    1.088</td> <td> 0.277</td> <td>   -0.165</td> <td>    0.578</td>\n",
       "</tr>\n",
       "<tr>\n",
       "  <th>ma.L1.Sqrt</th> <td>   -0.2130</td> <td>    0.174</td> <td>   -1.227</td> <td> 0.220</td> <td>   -0.553</td> <td>    0.127</td>\n",
       "</tr>\n",
       "<tr>\n",
       "  <th>ma.L2.Sqrt</th> <td>   -0.7870</td> <td>    0.173</td> <td>   -4.554</td> <td> 0.000</td> <td>   -1.126</td> <td>   -0.448</td>\n",
       "</tr>\n",
       "</table>\n",
       "<table class=\"simpletable\">\n",
       "<caption>Roots</caption>\n",
       "<tr>\n",
       "    <td></td>   <th>            Real</th>  <th>         Imaginary</th> <th>         Modulus</th>  <th>        Frequency</th>\n",
       "</tr>\n",
       "<tr>\n",
       "  <th>AR.1</th> <td>           1.8008</td> <td>          +0.0000j</td> <td>           1.8008</td> <td>           0.0000</td>\n",
       "</tr>\n",
       "<tr>\n",
       "  <th>AR.2</th> <td>          -2.6927</td> <td>          +0.0000j</td> <td>           2.6927</td> <td>           0.5000</td>\n",
       "</tr>\n",
       "<tr>\n",
       "  <th>MA.1</th> <td>           1.0000</td> <td>          +0.0000j</td> <td>           1.0000</td> <td>           0.0000</td>\n",
       "</tr>\n",
       "<tr>\n",
       "  <th>MA.2</th> <td>          -1.2707</td> <td>          +0.0000j</td> <td>           1.2707</td> <td>           0.5000</td>\n",
       "</tr>\n",
       "</table>"
      ],
      "text/plain": [
       "<class 'statsmodels.iolib.summary.Summary'>\n",
       "\"\"\"\n",
       "                              ARMA Model Results                              \n",
       "==============================================================================\n",
       "Dep. Variable:                   Sqrt   No. Observations:                  100\n",
       "Model:                     ARMA(2, 2)   Log Likelihood                 -98.591\n",
       "Method:                       css-mle   S.D. of innovations              0.637\n",
       "Date:                Thu, 27 Jan 2022   AIC                            209.183\n",
       "Time:                        00:10:09   BIC                            224.814\n",
       "Sample:                    02-01-1949   HQIC                           215.509\n",
       "                         - 05-01-1957                                         \n",
       "==============================================================================\n",
       "                 coef    std err          z      P>|z|      [0.025      0.975]\n",
       "------------------------------------------------------------------------------\n",
       "const          0.0801      0.006     13.100      0.000       0.068       0.092\n",
       "ar.L1.Sqrt     0.1839      0.212      0.869      0.385      -0.231       0.599\n",
       "ar.L2.Sqrt     0.2062      0.190      1.088      0.277      -0.165       0.578\n",
       "ma.L1.Sqrt    -0.2130      0.174     -1.227      0.220      -0.553       0.127\n",
       "ma.L2.Sqrt    -0.7870      0.173     -4.554      0.000      -1.126      -0.448\n",
       "                                    Roots                                    \n",
       "=============================================================================\n",
       "                  Real          Imaginary           Modulus         Frequency\n",
       "-----------------------------------------------------------------------------\n",
       "AR.1            1.8008           +0.0000j            1.8008            0.0000\n",
       "AR.2           -2.6927           +0.0000j            2.6927            0.5000\n",
       "MA.1            1.0000           +0.0000j            1.0000            0.0000\n",
       "MA.2           -1.2707           +0.0000j            1.2707            0.5000\n",
       "-----------------------------------------------------------------------------\n",
       "\"\"\""
      ]
     },
     "execution_count": 31,
     "metadata": {},
     "output_type": "execute_result"
    }
   ],
   "source": [
    "res4.summary()"
   ]
  },
  {
   "cell_type": "code",
   "execution_count": 32,
   "id": "980310f5",
   "metadata": {},
   "outputs": [],
   "source": [
    "mod5 = ARMA(train.dropna(), order=(2,2,1))\n",
    "res5 = mod5.fit()"
   ]
  },
  {
   "cell_type": "code",
   "execution_count": 33,
   "id": "62608ecb",
   "metadata": {},
   "outputs": [
    {
     "data": {
      "text/html": [
       "<table class=\"simpletable\">\n",
       "<caption>ARMA Model Results</caption>\n",
       "<tr>\n",
       "  <th>Dep. Variable:</th>       <td>Sqrt</td>       <th>  No. Observations:  </th>   <td>100</td>  \n",
       "</tr>\n",
       "<tr>\n",
       "  <th>Model:</th>            <td>ARMA(2, 2)</td>    <th>  Log Likelihood     </th> <td>-98.591</td>\n",
       "</tr>\n",
       "<tr>\n",
       "  <th>Method:</th>             <td>css-mle</td>     <th>  S.D. of innovations</th>  <td>0.637</td> \n",
       "</tr>\n",
       "<tr>\n",
       "  <th>Date:</th>          <td>Thu, 27 Jan 2022</td> <th>  AIC                </th> <td>209.183</td>\n",
       "</tr>\n",
       "<tr>\n",
       "  <th>Time:</th>              <td>00:10:29</td>     <th>  BIC                </th> <td>224.814</td>\n",
       "</tr>\n",
       "<tr>\n",
       "  <th>Sample:</th>           <td>02-01-1949</td>    <th>  HQIC               </th> <td>215.509</td>\n",
       "</tr>\n",
       "<tr>\n",
       "  <th></th>                 <td>- 05-01-1957</td>   <th>                     </th>    <td> </td>   \n",
       "</tr>\n",
       "</table>\n",
       "<table class=\"simpletable\">\n",
       "<tr>\n",
       "       <td></td>         <th>coef</th>     <th>std err</th>      <th>z</th>      <th>P>|z|</th>  <th>[0.025</th>    <th>0.975]</th>  \n",
       "</tr>\n",
       "<tr>\n",
       "  <th>const</th>      <td>    0.0801</td> <td>    0.006</td> <td>   13.100</td> <td> 0.000</td> <td>    0.068</td> <td>    0.092</td>\n",
       "</tr>\n",
       "<tr>\n",
       "  <th>ar.L1.Sqrt</th> <td>    0.1839</td> <td>    0.212</td> <td>    0.869</td> <td> 0.385</td> <td>   -0.231</td> <td>    0.599</td>\n",
       "</tr>\n",
       "<tr>\n",
       "  <th>ar.L2.Sqrt</th> <td>    0.2062</td> <td>    0.190</td> <td>    1.088</td> <td> 0.277</td> <td>   -0.165</td> <td>    0.578</td>\n",
       "</tr>\n",
       "<tr>\n",
       "  <th>ma.L1.Sqrt</th> <td>   -0.2130</td> <td>    0.174</td> <td>   -1.227</td> <td> 0.220</td> <td>   -0.553</td> <td>    0.127</td>\n",
       "</tr>\n",
       "<tr>\n",
       "  <th>ma.L2.Sqrt</th> <td>   -0.7870</td> <td>    0.173</td> <td>   -4.554</td> <td> 0.000</td> <td>   -1.126</td> <td>   -0.448</td>\n",
       "</tr>\n",
       "</table>\n",
       "<table class=\"simpletable\">\n",
       "<caption>Roots</caption>\n",
       "<tr>\n",
       "    <td></td>   <th>            Real</th>  <th>         Imaginary</th> <th>         Modulus</th>  <th>        Frequency</th>\n",
       "</tr>\n",
       "<tr>\n",
       "  <th>AR.1</th> <td>           1.8008</td> <td>          +0.0000j</td> <td>           1.8008</td> <td>           0.0000</td>\n",
       "</tr>\n",
       "<tr>\n",
       "  <th>AR.2</th> <td>          -2.6927</td> <td>          +0.0000j</td> <td>           2.6927</td> <td>           0.5000</td>\n",
       "</tr>\n",
       "<tr>\n",
       "  <th>MA.1</th> <td>           1.0000</td> <td>          +0.0000j</td> <td>           1.0000</td> <td>           0.0000</td>\n",
       "</tr>\n",
       "<tr>\n",
       "  <th>MA.2</th> <td>          -1.2707</td> <td>          +0.0000j</td> <td>           1.2707</td> <td>           0.5000</td>\n",
       "</tr>\n",
       "</table>"
      ],
      "text/plain": [
       "<class 'statsmodels.iolib.summary.Summary'>\n",
       "\"\"\"\n",
       "                              ARMA Model Results                              \n",
       "==============================================================================\n",
       "Dep. Variable:                   Sqrt   No. Observations:                  100\n",
       "Model:                     ARMA(2, 2)   Log Likelihood                 -98.591\n",
       "Method:                       css-mle   S.D. of innovations              0.637\n",
       "Date:                Thu, 27 Jan 2022   AIC                            209.183\n",
       "Time:                        00:10:29   BIC                            224.814\n",
       "Sample:                    02-01-1949   HQIC                           215.509\n",
       "                         - 05-01-1957                                         \n",
       "==============================================================================\n",
       "                 coef    std err          z      P>|z|      [0.025      0.975]\n",
       "------------------------------------------------------------------------------\n",
       "const          0.0801      0.006     13.100      0.000       0.068       0.092\n",
       "ar.L1.Sqrt     0.1839      0.212      0.869      0.385      -0.231       0.599\n",
       "ar.L2.Sqrt     0.2062      0.190      1.088      0.277      -0.165       0.578\n",
       "ma.L1.Sqrt    -0.2130      0.174     -1.227      0.220      -0.553       0.127\n",
       "ma.L2.Sqrt    -0.7870      0.173     -4.554      0.000      -1.126      -0.448\n",
       "                                    Roots                                    \n",
       "=============================================================================\n",
       "                  Real          Imaginary           Modulus         Frequency\n",
       "-----------------------------------------------------------------------------\n",
       "AR.1            1.8008           +0.0000j            1.8008            0.0000\n",
       "AR.2           -2.6927           +0.0000j            2.6927            0.5000\n",
       "MA.1            1.0000           +0.0000j            1.0000            0.0000\n",
       "MA.2           -1.2707           +0.0000j            1.2707            0.5000\n",
       "-----------------------------------------------------------------------------\n",
       "\"\"\""
      ]
     },
     "execution_count": 33,
     "metadata": {},
     "output_type": "execute_result"
    }
   ],
   "source": [
    "res5.summary()"
   ]
  },
  {
   "cell_type": "markdown",
   "id": "a50c30cf",
   "metadata": {},
   "source": [
    "Let’s calculate root mean squared error (RMSE) for all the models. Explain the values"
   ]
  },
  {
   "cell_type": "code",
   "execution_count": 34,
   "id": "6ff9a27a",
   "metadata": {},
   "outputs": [
    {
     "name": "stdout",
     "output_type": "stream",
     "text": [
      "[1.187537688631834, 1.1937498267124984, 1.187432724913952, 1.186582760764405, 1.186582760764405]\n"
     ]
    }
   ],
   "source": [
    "p1=res1.predict(test.index[0],test.index[-1])\n",
    "p2=res2.predict(test.index[0],test.index[-1])\n",
    "p3=res3.predict(test.index[0],test.index[-1])\n",
    "p4=res4.predict(test.index[0],test.index[-1])\n",
    "p5=res5.predict(test.index[0],test.index[-1])\n",
    "\n",
    "from statsmodels.tools.eval_measures import rmse\n",
    "r1 = rmse(test,p1)\n",
    "r2 = rmse(test,p2)\n",
    "r3 = rmse(test,p3)\n",
    "r4 = rmse(test,p4)\n",
    "r5 = rmse(test,p5)\n",
    "r_list = [r1,r2,r3,r4,r5]\n",
    "print(r_list)"
   ]
  },
  {
   "cell_type": "code",
   "execution_count": 35,
   "id": "c414190a",
   "metadata": {},
   "outputs": [
    {
     "data": {
      "text/plain": [
       "[228.21019732675163,\n",
       " 214.67598899044464,\n",
       " 228.14954038404315,\n",
       " 209.18298665305343,\n",
       " 209.18298665305343]"
      ]
     },
     "execution_count": 35,
     "metadata": {},
     "output_type": "execute_result"
    }
   ],
   "source": [
    "aic_list = [res1.aic,res2.aic,res3.aic,res4.aic,res5.aic]\n",
    "aic_list"
   ]
  },
  {
   "cell_type": "code",
   "execution_count": 36,
   "id": "2a1eb429",
   "metadata": {},
   "outputs": [
    {
     "data": {
      "text/html": [
       "<div>\n",
       "<style scoped>\n",
       "    .dataframe tbody tr th:only-of-type {\n",
       "        vertical-align: middle;\n",
       "    }\n",
       "\n",
       "    .dataframe tbody tr th {\n",
       "        vertical-align: top;\n",
       "    }\n",
       "\n",
       "    .dataframe thead th {\n",
       "        text-align: right;\n",
       "    }\n",
       "</style>\n",
       "<table border=\"1\" class=\"dataframe\">\n",
       "  <thead>\n",
       "    <tr style=\"text-align: right;\">\n",
       "      <th></th>\n",
       "      <th>rmse</th>\n",
       "      <th>aic</th>\n",
       "    </tr>\n",
       "  </thead>\n",
       "  <tbody>\n",
       "    <tr>\n",
       "      <th>3</th>\n",
       "      <td>1.186583</td>\n",
       "      <td>209.182987</td>\n",
       "    </tr>\n",
       "    <tr>\n",
       "      <th>4</th>\n",
       "      <td>1.186583</td>\n",
       "      <td>209.182987</td>\n",
       "    </tr>\n",
       "    <tr>\n",
       "      <th>1</th>\n",
       "      <td>1.193750</td>\n",
       "      <td>214.675989</td>\n",
       "    </tr>\n",
       "    <tr>\n",
       "      <th>2</th>\n",
       "      <td>1.187433</td>\n",
       "      <td>228.149540</td>\n",
       "    </tr>\n",
       "    <tr>\n",
       "      <th>0</th>\n",
       "      <td>1.187538</td>\n",
       "      <td>228.210197</td>\n",
       "    </tr>\n",
       "  </tbody>\n",
       "</table>\n",
       "</div>"
      ],
      "text/plain": [
       "       rmse         aic\n",
       "3  1.186583  209.182987\n",
       "4  1.186583  209.182987\n",
       "1  1.193750  214.675989\n",
       "2  1.187433  228.149540\n",
       "0  1.187538  228.210197"
      ]
     },
     "execution_count": 36,
     "metadata": {},
     "output_type": "execute_result"
    }
   ],
   "source": [
    "df=pd.DataFrame(list(zip(r_list, aic_list)), columns=['rmse', 'aic']).sort_values(by=['aic'])\n",
    "df"
   ]
  },
  {
   "cell_type": "code",
   "execution_count": 37,
   "id": "95c766d1",
   "metadata": {},
   "outputs": [],
   "source": [
    "#F the 3rd&4th model got the lowerst rmse & aic \n",
    "#which is ARMA(2,2) & AR(2)"
   ]
  },
  {
   "cell_type": "code",
   "execution_count": null,
   "id": "acf6cbe3",
   "metadata": {},
   "outputs": [],
   "source": []
  }
 ],
 "metadata": {
  "kernelspec": {
   "display_name": "Python 3 (ipykernel)",
   "language": "python",
   "name": "python3"
  },
  "language_info": {
   "codemirror_mode": {
    "name": "ipython",
    "version": 3
   },
   "file_extension": ".py",
   "mimetype": "text/x-python",
   "name": "python",
   "nbconvert_exporter": "python",
   "pygments_lexer": "ipython3",
   "version": "3.9.12"
  }
 },
 "nbformat": 4,
 "nbformat_minor": 5
}
