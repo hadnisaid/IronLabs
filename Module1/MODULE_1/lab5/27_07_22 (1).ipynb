{
 "cells": [
  {
   "cell_type": "code",
   "execution_count": 3,
   "id": "dab0dc42",
   "metadata": {},
   "outputs": [
    {
     "name": "stdout",
     "output_type": "stream",
     "text": [
      "saidhadni\n"
     ]
    }
   ],
   "source": [
    "x= 'said'\n",
    "y= 'hadni'\n",
    "print (x+y)\n"
   ]
  },
  {
   "cell_type": "code",
   "execution_count": 4,
   "id": "f6c2b074",
   "metadata": {},
   "outputs": [
    {
     "data": {
      "text/plain": [
       "'saidsaidsaidsaidsaidsaidsaidsaid'"
      ]
     },
     "execution_count": 4,
     "metadata": {},
     "output_type": "execute_result"
    }
   ],
   "source": [
    "x*8"
   ]
  },
  {
   "cell_type": "code",
   "execution_count": 8,
   "id": "d525d892",
   "metadata": {},
   "outputs": [
    {
     "data": {
      "text/plain": [
       "'said said said said said said said said '"
      ]
     },
     "execution_count": 8,
     "metadata": {},
     "output_type": "execute_result"
    }
   ],
   "source": [
    "(x+' ')*8"
   ]
  },
  {
   "cell_type": "code",
   "execution_count": 9,
   "id": "5d24ab63",
   "metadata": {},
   "outputs": [],
   "source": [
    "x = 'Happy'\n",
    "y = 'Puppies'\n",
    "z = [x,y]"
   ]
  },
  {
   "cell_type": "code",
   "execution_count": 10,
   "id": "24669199",
   "metadata": {},
   "outputs": [
    {
     "data": {
      "text/plain": [
       "['Happy', 'Puppies']"
      ]
     },
     "execution_count": 10,
     "metadata": {},
     "output_type": "execute_result"
    }
   ],
   "source": [
    "z"
   ]
  },
  {
   "cell_type": "code",
   "execution_count": 11,
   "id": "8ee24722",
   "metadata": {},
   "outputs": [
    {
     "data": {
      "text/plain": [
       "'Happy_Puppies'"
      ]
     },
     "execution_count": 11,
     "metadata": {},
     "output_type": "execute_result"
    }
   ],
   "source": [
    "'_'.join(z)"
   ]
  },
  {
   "cell_type": "code",
   "execution_count": 16,
   "id": "3b2eb0be",
   "metadata": {},
   "outputs": [
    {
     "name": "stdout",
     "output_type": "stream",
     "text": [
      "your nameSAID\n"
     ]
    }
   ],
   "source": [
    "x=input('your name')\n"
   ]
  },
  {
   "cell_type": "code",
   "execution_count": 17,
   "id": "888f53df",
   "metadata": {},
   "outputs": [
    {
     "data": {
      "text/plain": [
       "'said'"
      ]
     },
     "execution_count": 17,
     "metadata": {},
     "output_type": "execute_result"
    }
   ],
   "source": [
    "x=x.lower()\n",
    "x"
   ]
  },
  {
   "cell_type": "code",
   "execution_count": 18,
   "id": "b670e6e6",
   "metadata": {},
   "outputs": [
    {
     "name": "stdout",
     "output_type": "stream",
     "text": [
      "you are welcome\n"
     ]
    }
   ],
   "source": [
    "if x=='said': print('you are welcome')"
   ]
  },
  {
   "cell_type": "code",
   "execution_count": 22,
   "id": "15239359",
   "metadata": {},
   "outputs": [],
   "source": [
    "text=\"Retraites : l'Assemblée nationale vote une augmentation de 500 millions pour les pensions, les députés reviennent dessus\""
   ]
  },
  {
   "cell_type": "code",
   "execution_count": 23,
   "id": "e419ee03",
   "metadata": {},
   "outputs": [
    {
     "data": {
      "text/plain": [
       "['Retraites',\n",
       " ':',\n",
       " \"l'Assemblée\",\n",
       " 'nationale',\n",
       " 'vote',\n",
       " 'une',\n",
       " 'augmentation',\n",
       " 'de',\n",
       " '500',\n",
       " 'millions',\n",
       " 'pour',\n",
       " 'les',\n",
       " 'pensions,',\n",
       " 'les',\n",
       " 'députés',\n",
       " 'reviennent',\n",
       " 'dessus']"
      ]
     },
     "execution_count": 23,
     "metadata": {},
     "output_type": "execute_result"
    }
   ],
   "source": [
    "# split a string\n",
    "text.split(sep = ' ')\n"
   ]
  },
  {
   "cell_type": "code",
   "execution_count": 24,
   "id": "a0699e9c",
   "metadata": {},
   "outputs": [],
   "source": [
    "a=text.split(sep=' ')"
   ]
  },
  {
   "cell_type": "code",
   "execution_count": 25,
   "id": "9d37b92b",
   "metadata": {},
   "outputs": [
    {
     "data": {
      "text/plain": [
       "['Retraites',\n",
       " ':',\n",
       " \"l'Assemblée\",\n",
       " 'nationale',\n",
       " 'vote',\n",
       " 'une',\n",
       " 'augmentation',\n",
       " 'de',\n",
       " '500',\n",
       " 'millions',\n",
       " 'pour',\n",
       " 'les',\n",
       " 'pensions,',\n",
       " 'les',\n",
       " 'députés',\n",
       " 'reviennent',\n",
       " 'dessus']"
      ]
     },
     "execution_count": 25,
     "metadata": {},
     "output_type": "execute_result"
    }
   ],
   "source": [
    "a"
   ]
  },
  {
   "cell_type": "code",
   "execution_count": 28,
   "id": "c71001cf",
   "metadata": {},
   "outputs": [],
   "source": [
    "t=\"good resto. good,very good\""
   ]
  },
  {
   "cell_type": "code",
   "execution_count": 29,
   "id": "06c0d6a2",
   "metadata": {},
   "outputs": [
    {
     "data": {
      "text/plain": [
       "3"
      ]
     },
     "execution_count": 29,
     "metadata": {},
     "output_type": "execute_result"
    }
   ],
   "source": [
    "t.count(\"good\")"
   ]
  },
  {
   "cell_type": "code",
   "execution_count": 30,
   "id": "cd5dec1d",
   "metadata": {},
   "outputs": [],
   "source": [
    "pos=[\"good\",\"nice\",\"cool\"]"
   ]
  },
  {
   "cell_type": "code",
   "execution_count": 31,
   "id": "541171ce",
   "metadata": {},
   "outputs": [],
   "source": [
    "s=0\n",
    "for i in pos:\n",
    "    n=t.count(i)\n",
    "    s=s+n"
   ]
  },
  {
   "cell_type": "code",
   "execution_count": 32,
   "id": "205cc6a6",
   "metadata": {},
   "outputs": [
    {
     "name": "stdout",
     "output_type": "stream",
     "text": [
      "client is happy\n"
     ]
    }
   ],
   "source": [
    "if s!=0 : print('client is happy')"
   ]
  },
  {
   "cell_type": "code",
   "execution_count": 33,
   "id": "c05ec055",
   "metadata": {},
   "outputs": [
    {
     "data": {
      "text/plain": [
       "Counter({'a': 5, 'b': 6, 'x': 6})"
      ]
     },
     "execution_count": 33,
     "metadata": {},
     "output_type": "execute_result"
    }
   ],
   "source": [
    "# count ALL characters in a string\n",
    "from collections import Counter\n",
    "Counter('aaaaabbbbbbxxxxxx')"
   ]
  },
  {
   "cell_type": "code",
   "execution_count": 34,
   "id": "2bcf6da6",
   "metadata": {},
   "outputs": [
    {
     "data": {
      "text/plain": [
       "[('b', 6), ('x', 6)]"
      ]
     },
     "execution_count": 34,
     "metadata": {},
     "output_type": "execute_result"
    }
   ],
   "source": [
    "# count ALL characters in a string\n",
    "from collections import Counter\n",
    "Counter('aaaaabbbbbbxxxxxx').most_common(2)"
   ]
  },
  {
   "cell_type": "code",
   "execution_count": 6,
   "id": "f50d4d9f",
   "metadata": {},
   "outputs": [],
   "source": [
    "ex=\"adam.smith@gmail.com, alan.turing@yahoo.fr, mary98@hotmail.fr, ketty_jonhson@gmail.com\""
   ]
  },
  {
   "cell_type": "code",
   "execution_count": 7,
   "id": "25cb3fae",
   "metadata": {},
   "outputs": [
    {
     "data": {
      "text/plain": [
       "['adam.smith@gmail.com',\n",
       " 'alan.turing@yahoo.fr',\n",
       " 'mary98@hotmail.fr',\n",
       " 'ketty_jonhson@gmail.com']"
      ]
     },
     "execution_count": 7,
     "metadata": {},
     "output_type": "execute_result"
    }
   ],
   "source": [
    "ex=ex.split(sep=', ')\n",
    "ex"
   ]
  },
  {
   "cell_type": "code",
   "execution_count": 9,
   "id": "73bcf270",
   "metadata": {},
   "outputs": [
    {
     "name": "stdout",
     "output_type": "stream",
     "text": [
      "[['adam.smith', 'gmail.com'], ['alan.turing', 'yahoo.fr'], ['mary98', 'hotmail.fr'], ['ketty_jonhson', 'gmail.com']]\n"
     ]
    }
   ],
   "source": [
    "d=[]\n",
    "for i in ex:\n",
    "    d.append(i.split(\"@\"))\n",
    "print(d)"
   ]
  },
  {
   "cell_type": "code",
   "execution_count": 93,
   "id": "8c2f5483",
   "metadata": {},
   "outputs": [
    {
     "data": {
      "text/plain": [
       "['gmail.com', 'yahoo.fr', 'hotmail.fr', 'gmail.com']"
      ]
     },
     "execution_count": 93,
     "metadata": {},
     "output_type": "execute_result"
    }
   ],
   "source": [
    "s=[]\n",
    "for i in d:\n",
    "    s.append(i[1])\n",
    "s"
   ]
  },
  {
   "cell_type": "code",
   "execution_count": 97,
   "id": "c59f7315",
   "metadata": {},
   "outputs": [
    {
     "data": {
      "text/plain": [
       "[('gmail.com', 2), ('yahoo.fr', 1), ('hotmail.fr', 1)]"
      ]
     },
     "execution_count": 97,
     "metadata": {},
     "output_type": "execute_result"
    }
   ],
   "source": [
    "Counter(s).most_common(3)"
   ]
  },
  {
   "cell_type": "code",
   "execution_count": 3,
   "id": "ffda846f",
   "metadata": {},
   "outputs": [
    {
     "name": "stdout",
     "output_type": "stream",
     "text": [
      "I have a tendency to leave trailing spaces. \n"
     ]
    }
   ],
   "source": [
    "d = ' I have a tendency to leave trailing spaces. '\n",
    "\n",
    "print(d.lstrip())"
   ]
  },
  {
   "cell_type": "code",
   "execution_count": 4,
   "id": "b583aea9",
   "metadata": {},
   "outputs": [],
   "source": [
    "name='Tom'"
   ]
  },
  {
   "cell_type": "code",
   "execution_count": 5,
   "id": "10d7004f",
   "metadata": {},
   "outputs": [],
   "source": [
    "email=\"hhh@ff.com\""
   ]
  },
  {
   "cell_type": "code",
   "execution_count": 6,
   "id": "27ce9c79",
   "metadata": {},
   "outputs": [],
   "source": [
    "e = 'I thought the movie was wonderful!'"
   ]
  },
  {
   "cell_type": "code",
   "execution_count": 7,
   "id": "8f9f5028",
   "metadata": {},
   "outputs": [
    {
     "name": "stdout",
     "output_type": "stream",
     "text": [
      "I thought the movie was horrible!\n"
     ]
    }
   ],
   "source": [
    "print(e.replace('wonderful', 'horrible'))\n"
   ]
  },
  {
   "cell_type": "code",
   "execution_count": 8,
   "id": "6b5b2542",
   "metadata": {},
   "outputs": [],
   "source": [
    "e=e.replace('wonderful', 'horrible')"
   ]
  },
  {
   "cell_type": "code",
   "execution_count": 9,
   "id": "1007d212",
   "metadata": {},
   "outputs": [
    {
     "name": "stdout",
     "output_type": "stream",
     "text": [
      "I thought the movie was horrible!\n"
     ]
    }
   ],
   "source": [
    "print(e)"
   ]
  },
  {
   "cell_type": "markdown",
   "id": "2671f153",
   "metadata": {},
   "source": [
    "Train, bus, car, dog\n",
    "Python, Java, C++, HTML\n"
   ]
  },
  {
   "cell_type": "code",
   "execution_count": 11,
   "id": "9ef3cf27",
   "metadata": {},
   "outputs": [],
   "source": [
    "a=\"Train, bus, car, dog\"\n"
   ]
  },
  {
   "cell_type": "code",
   "execution_count": 13,
   "id": "26ba1929",
   "metadata": {},
   "outputs": [
    {
     "data": {
      "text/plain": [
       "'Train, bus, car, horse'"
      ]
     },
     "execution_count": 13,
     "metadata": {},
     "output_type": "execute_result"
    }
   ],
   "source": [
    "a.replace('dog','horse')"
   ]
  },
  {
   "cell_type": "code",
   "execution_count": 16,
   "id": "b13e262f",
   "metadata": {},
   "outputs": [
    {
     "name": "stdout",
     "output_type": "stream",
     "text": [
      "Train, bus, car, horse\n"
     ]
    }
   ],
   "source": [
    "a=a.replace('dog','horse')\n",
    "print(a)"
   ]
  },
  {
   "cell_type": "code",
   "execution_count": 22,
   "id": "8e59ab94",
   "metadata": {},
   "outputs": [
    {
     "name": "stdout",
     "output_type": "stream",
     "text": [
      "Python, Java, C++, R\n"
     ]
    }
   ],
   "source": [
    "b=\"Python, Java, C++, HTML\"\n",
    "print(b.replace('HTML','R'))\n"
   ]
  },
  {
   "cell_type": "code",
   "execution_count": 25,
   "id": "1ba8ba38",
   "metadata": {},
   "outputs": [],
   "source": [
    "text=\"Dear sender,Thank you for your email. I am on maternity leave until January 3, 2022. For urgent matters, please contact finance@adyen.comThank you for your message. Lauren Hackett has left The Economist Group. In her absence please direct your message to one of  the following:- The Economist Editorial: Holly Donahue in the UK and ROW <hollydonahue@economist.com> or Tom Amos in the US <tomamos@economist.com>- The Economist business, EIU, Events and Client Solutions: Jessica Keating <jessicakeating@economist.com>- Digital Communications: Paddy Crowley <paddycrowley@economist.com>- Internal Communications: Stephanie Sampiere <stephaniesampiere@economist.com> If you are looking to get in contact with Lauren she can be reached at Lauren@LaurenHackett.com.\""
   ]
  },
  {
   "cell_type": "code",
   "execution_count": 26,
   "id": "b7b2da5d",
   "metadata": {},
   "outputs": [
    {
     "data": {
      "text/plain": [
       "'Dear sender,Thank you for your email. I am on maternity leave until January 3, 2022. For urgent matters, please contact finance@adyen.comThank you for your message. Lauren Hackett has left The Economist Group. In her absence please direct your message to one of  the following:- The Economist Editorial: Holly Donahue in the UK and ROW <hollydonahue@economist.com> or Tom Amos in the US <tomamos@economist.com>- The Economist business, EIU, Events and Client Solutions: Jessica Keating <jessicakeating@economist.com>- Digital Communications: Paddy Crowley <paddycrowley@economist.com>- Internal Communications: Stephanie Sampiere <stephaniesampiere@economist.com> If you are looking to get in contact with Lauren she can be reached at Lauren@LaurenHackett.com.'"
      ]
     },
     "execution_count": 26,
     "metadata": {},
     "output_type": "execute_result"
    }
   ],
   "source": [
    "text"
   ]
  },
  {
   "cell_type": "code",
   "execution_count": 27,
   "id": "dd62eda6",
   "metadata": {},
   "outputs": [],
   "source": [
    "import re "
   ]
  },
  {
   "cell_type": "code",
   "execution_count": null,
   "id": "10913d01",
   "metadata": {},
   "outputs": [],
   "source": [
    "[\\w]*'@'"
   ]
  },
  {
   "cell_type": "code",
   "execution_count": 48,
   "id": "55a4d695",
   "metadata": {},
   "outputs": [
    {
     "data": {
      "text/plain": [
       "['finance@',\n",
       " 'hollydonahue@',\n",
       " 'tomamos@',\n",
       " 'jessicakeating@',\n",
       " 'paddycrowley@',\n",
       " 'stephaniesampiere@',\n",
       " 'Lauren@']"
      ]
     },
     "execution_count": 48,
     "metadata": {},
     "output_type": "execute_result"
    }
   ],
   "source": [
    "re.findall('[\\w]*@',text)"
   ]
  },
  {
   "cell_type": "code",
   "execution_count": 57,
   "id": "91c00d98",
   "metadata": {},
   "outputs": [
    {
     "data": {
      "text/plain": [
       "['finance@adyen.com',\n",
       " 'hollydonahue@economist.com',\n",
       " 'tomamos@economist.com',\n",
       " 'jessicakeating@economist.com',\n",
       " 'paddycrowley@economist.com',\n",
       " 'stephaniesampiere@economist.com',\n",
       " 'Lauren@LaurenHackett.com']"
      ]
     },
     "execution_count": 57,
     "metadata": {},
     "output_type": "execute_result"
    }
   ],
   "source": [
    "re.findall('[\\w]*@[\\w]*.[\\w]{3}',text)"
   ]
  },
  {
   "cell_type": "code",
   "execution_count": 58,
   "id": "843578cb",
   "metadata": {},
   "outputs": [
    {
     "data": {
      "text/plain": [
       "['finance@adyen.com',\n",
       " 'hollydonahue@economist.com',\n",
       " 'tomamos@economist.com',\n",
       " 'jessicakeating@economist.com',\n",
       " 'paddycrowley@economist.com',\n",
       " 'stephaniesampiere@economist.com',\n",
       " 'Lauren@LaurenHackett.com']"
      ]
     },
     "execution_count": 58,
     "metadata": {},
     "output_type": "execute_result"
    }
   ],
   "source": [
    "re.findall('[\\w]*@[\\w]*.[\\w]{3}',text)"
   ]
  },
  {
   "cell_type": "code",
   "execution_count": null,
   "id": "f7874378",
   "metadata": {},
   "outputs": [],
   "source": []
  }
 ],
 "metadata": {
  "kernelspec": {
   "display_name": "Python 3 (ipykernel)",
   "language": "python",
   "name": "python3"
  },
  "language_info": {
   "codemirror_mode": {
    "name": "ipython",
    "version": 3
   },
   "file_extension": ".py",
   "mimetype": "text/x-python",
   "name": "python",
   "nbconvert_exporter": "python",
   "pygments_lexer": "ipython3",
   "version": "3.9.12"
  }
 },
 "nbformat": 4,
 "nbformat_minor": 5
}
