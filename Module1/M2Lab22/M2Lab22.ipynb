{
 "cells": [
  {
   "cell_type": "code",
   "execution_count": 16,
   "id": "d55860dd",
   "metadata": {},
   "outputs": [],
   "source": [
    "import pandas as pd \n",
    "import matplotlib.pyplot as plt\n",
    "import numpy as np\n",
    "from statsmodels.tsa.stattools import adfuller\n",
    "from statsmodels.graphics.tsaplots import plot_acf\n",
    "from statsmodels.tsa.ar_model import AutoReg\n",
    "import datetime as dt"
   ]
  },
  {
   "cell_type": "code",
   "execution_count": 3,
   "id": "3865d58a",
   "metadata": {},
   "outputs": [],
   "source": [
    "btc = pd.read_csv(r'C:\\Users\\local123\\Desktop\\Ironhack\\DAFT_257\\module_2\\Lab_22_Time-Series-Models\\BTC-USD.csv', index_col='Date', parse_dates=True) \n",
    "# choosing index and indicating it's a date format "
   ]
  },
  {
   "cell_type": "code",
   "execution_count": 19,
   "id": "972167b7",
   "metadata": {},
   "outputs": [
    {
     "data": {
      "text/html": [
       "<div>\n",
       "<style scoped>\n",
       "    .dataframe tbody tr th:only-of-type {\n",
       "        vertical-align: middle;\n",
       "    }\n",
       "\n",
       "    .dataframe tbody tr th {\n",
       "        vertical-align: top;\n",
       "    }\n",
       "\n",
       "    .dataframe thead th {\n",
       "        text-align: right;\n",
       "    }\n",
       "</style>\n",
       "<table border=\"1\" class=\"dataframe\">\n",
       "  <thead>\n",
       "    <tr style=\"text-align: right;\">\n",
       "      <th></th>\n",
       "      <th>Open</th>\n",
       "      <th>High</th>\n",
       "      <th>Low</th>\n",
       "      <th>Close</th>\n",
       "      <th>Adj Close</th>\n",
       "      <th>Volume</th>\n",
       "    </tr>\n",
       "    <tr>\n",
       "      <th>Date</th>\n",
       "      <th></th>\n",
       "      <th></th>\n",
       "      <th></th>\n",
       "      <th></th>\n",
       "      <th></th>\n",
       "      <th></th>\n",
       "    </tr>\n",
       "  </thead>\n",
       "  <tbody>\n",
       "    <tr>\n",
       "      <th>2015-01-01</th>\n",
       "      <td>320.434998</td>\n",
       "      <td>320.434998</td>\n",
       "      <td>314.002991</td>\n",
       "      <td>314.248993</td>\n",
       "      <td>314.248993</td>\n",
       "      <td>8036550</td>\n",
       "    </tr>\n",
       "    <tr>\n",
       "      <th>2015-01-02</th>\n",
       "      <td>314.079010</td>\n",
       "      <td>315.838989</td>\n",
       "      <td>313.565002</td>\n",
       "      <td>315.032013</td>\n",
       "      <td>315.032013</td>\n",
       "      <td>7860650</td>\n",
       "    </tr>\n",
       "    <tr>\n",
       "      <th>2015-01-03</th>\n",
       "      <td>314.846008</td>\n",
       "      <td>315.149994</td>\n",
       "      <td>281.082001</td>\n",
       "      <td>281.082001</td>\n",
       "      <td>281.082001</td>\n",
       "      <td>33054400</td>\n",
       "    </tr>\n",
       "    <tr>\n",
       "      <th>2015-01-04</th>\n",
       "      <td>281.145996</td>\n",
       "      <td>287.230011</td>\n",
       "      <td>257.612000</td>\n",
       "      <td>264.195007</td>\n",
       "      <td>264.195007</td>\n",
       "      <td>55629100</td>\n",
       "    </tr>\n",
       "    <tr>\n",
       "      <th>2015-01-05</th>\n",
       "      <td>265.084015</td>\n",
       "      <td>278.341003</td>\n",
       "      <td>265.084015</td>\n",
       "      <td>274.473999</td>\n",
       "      <td>274.473999</td>\n",
       "      <td>43962800</td>\n",
       "    </tr>\n",
       "    <tr>\n",
       "      <th>...</th>\n",
       "      <td>...</td>\n",
       "      <td>...</td>\n",
       "      <td>...</td>\n",
       "      <td>...</td>\n",
       "      <td>...</td>\n",
       "      <td>...</td>\n",
       "    </tr>\n",
       "    <tr>\n",
       "      <th>2021-12-27</th>\n",
       "      <td>50802.609375</td>\n",
       "      <td>51956.328125</td>\n",
       "      <td>50499.468750</td>\n",
       "      <td>50640.417969</td>\n",
       "      <td>50640.417969</td>\n",
       "      <td>24324345758</td>\n",
       "    </tr>\n",
       "    <tr>\n",
       "      <th>2021-12-28</th>\n",
       "      <td>50679.859375</td>\n",
       "      <td>50679.859375</td>\n",
       "      <td>47414.210938</td>\n",
       "      <td>47588.855469</td>\n",
       "      <td>47588.855469</td>\n",
       "      <td>33430376883</td>\n",
       "    </tr>\n",
       "    <tr>\n",
       "      <th>2021-12-29</th>\n",
       "      <td>47623.871094</td>\n",
       "      <td>48119.742188</td>\n",
       "      <td>46201.496094</td>\n",
       "      <td>46444.710938</td>\n",
       "      <td>46444.710938</td>\n",
       "      <td>30049226299</td>\n",
       "    </tr>\n",
       "    <tr>\n",
       "      <th>2021-12-30</th>\n",
       "      <td>46490.605469</td>\n",
       "      <td>47879.964844</td>\n",
       "      <td>46060.312500</td>\n",
       "      <td>47178.125000</td>\n",
       "      <td>47178.125000</td>\n",
       "      <td>26686491018</td>\n",
       "    </tr>\n",
       "    <tr>\n",
       "      <th>2021-12-31</th>\n",
       "      <td>47169.371094</td>\n",
       "      <td>48472.527344</td>\n",
       "      <td>45819.953125</td>\n",
       "      <td>46306.445313</td>\n",
       "      <td>46306.445313</td>\n",
       "      <td>36974172400</td>\n",
       "    </tr>\n",
       "  </tbody>\n",
       "</table>\n",
       "<p>2557 rows × 6 columns</p>\n",
       "</div>"
      ],
      "text/plain": [
       "                    Open          High           Low         Close  \\\n",
       "Date                                                                 \n",
       "2015-01-01    320.434998    320.434998    314.002991    314.248993   \n",
       "2015-01-02    314.079010    315.838989    313.565002    315.032013   \n",
       "2015-01-03    314.846008    315.149994    281.082001    281.082001   \n",
       "2015-01-04    281.145996    287.230011    257.612000    264.195007   \n",
       "2015-01-05    265.084015    278.341003    265.084015    274.473999   \n",
       "...                  ...           ...           ...           ...   \n",
       "2021-12-27  50802.609375  51956.328125  50499.468750  50640.417969   \n",
       "2021-12-28  50679.859375  50679.859375  47414.210938  47588.855469   \n",
       "2021-12-29  47623.871094  48119.742188  46201.496094  46444.710938   \n",
       "2021-12-30  46490.605469  47879.964844  46060.312500  47178.125000   \n",
       "2021-12-31  47169.371094  48472.527344  45819.953125  46306.445313   \n",
       "\n",
       "               Adj Close       Volume  \n",
       "Date                                   \n",
       "2015-01-01    314.248993      8036550  \n",
       "2015-01-02    315.032013      7860650  \n",
       "2015-01-03    281.082001     33054400  \n",
       "2015-01-04    264.195007     55629100  \n",
       "2015-01-05    274.473999     43962800  \n",
       "...                  ...          ...  \n",
       "2021-12-27  50640.417969  24324345758  \n",
       "2021-12-28  47588.855469  33430376883  \n",
       "2021-12-29  46444.710938  30049226299  \n",
       "2021-12-30  47178.125000  26686491018  \n",
       "2021-12-31  46306.445313  36974172400  \n",
       "\n",
       "[2557 rows x 6 columns]"
      ]
     },
     "execution_count": 19,
     "metadata": {},
     "output_type": "execute_result"
    }
   ],
   "source": [
    "btc"
   ]
  },
  {
   "cell_type": "code",
   "execution_count": 6,
   "id": "fb59907d",
   "metadata": {},
   "outputs": [
    {
     "data": {
      "image/png": "[encoded data removed]",
      "text/plain": [
       "<Figure size 648x432 with 1 Axes>"
      ]
     },
     "metadata": {
      "needs_background": "light"
     },
     "output_type": "display_data"
    }
   ],
   "source": [
    "btc['Close'].plot(figsize=(9, 6))\n",
    "plt.show()"
   ]
  },
  {
   "cell_type": "code",
   "execution_count": null,
   "id": "a8b6c021",
   "metadata": {},
   "outputs": [],
   "source": []
  },
  {
   "cell_type": "code",
   "execution_count": 6,
   "id": "935414cd",
   "metadata": {},
   "outputs": [
    {
     "name": "stdout",
     "output_type": "stream",
     "text": [
      "ADF Test Statistic: -0.49\n",
      "5% Critical Value: -2.86\n",
      "p-value: 0.89\n"
     ]
    }
   ],
   "source": [
    "# checking stationary data \n",
    "# Import adfuller\n",
    "\n",
    "result = adfuller(btc.Close)\n",
    "print('ADF Test Statistic: %.2f' % result[0])\n",
    "print('5%% Critical Value: %.2f' % result[4]['5%'])\n",
    "print('p-value: %.2f' % result[1])\n"
   ]
  },
  {
   "cell_type": "code",
   "execution_count": 24,
   "id": "4c1e7b44",
   "metadata": {},
   "outputs": [
    {
     "data": {
      "image/png": "[encoded data removed]",
      "text/plain": [
       "<Figure size 720x504 with 1 Axes>"
      ]
     },
     "metadata": {
      "needs_background": "light"
     },
     "output_type": "display_data"
    }
   ],
   "source": [
    "# data in non stationary P-VALUE > 0.05\n",
    "# Change for (t)th day is Close for (t)th day minus Close for (t-1)th day.\n",
    "btc['Diff'] = btc['Close'].diff()\n",
    "\n",
    "# Plot the Change\n",
    "plt.figure(figsize=(10, 7))\n",
    "plt.plot(btc['Diff'])\n",
    "plt.title('First Order Differenced Series', fontsize=14)\n",
    "plt.xlabel('Year', fontsize=12)\n",
    "plt.ylabel('Difference', fontsize=12)\n",
    "plt.show()"
   ]
  },
  {
   "cell_type": "code",
   "execution_count": 8,
   "id": "123a2f39",
   "metadata": {},
   "outputs": [
    {
     "data": {
      "text/html": [
       "<div>\n",
       "<style scoped>\n",
       "    .dataframe tbody tr th:only-of-type {\n",
       "        vertical-align: middle;\n",
       "    }\n",
       "\n",
       "    .dataframe tbody tr th {\n",
       "        vertical-align: top;\n",
       "    }\n",
       "\n",
       "    .dataframe thead th {\n",
       "        text-align: right;\n",
       "    }\n",
       "</style>\n",
       "<table border=\"1\" class=\"dataframe\">\n",
       "  <thead>\n",
       "    <tr style=\"text-align: right;\">\n",
       "      <th></th>\n",
       "      <th>Open</th>\n",
       "      <th>High</th>\n",
       "      <th>Low</th>\n",
       "      <th>Close</th>\n",
       "      <th>Adj Close</th>\n",
       "      <th>Volume</th>\n",
       "      <th>Difference</th>\n",
       "    </tr>\n",
       "    <tr>\n",
       "      <th>Date</th>\n",
       "      <th></th>\n",
       "      <th></th>\n",
       "      <th></th>\n",
       "      <th></th>\n",
       "      <th></th>\n",
       "      <th></th>\n",
       "      <th></th>\n",
       "    </tr>\n",
       "  </thead>\n",
       "  <tbody>\n",
       "    <tr>\n",
       "      <th>2015-01-01</th>\n",
       "      <td>320.434998</td>\n",
       "      <td>320.434998</td>\n",
       "      <td>314.002991</td>\n",
       "      <td>314.248993</td>\n",
       "      <td>314.248993</td>\n",
       "      <td>8036550</td>\n",
       "      <td>NaN</td>\n",
       "    </tr>\n",
       "    <tr>\n",
       "      <th>2015-01-02</th>\n",
       "      <td>314.079010</td>\n",
       "      <td>315.838989</td>\n",
       "      <td>313.565002</td>\n",
       "      <td>315.032013</td>\n",
       "      <td>315.032013</td>\n",
       "      <td>7860650</td>\n",
       "      <td>0.783020</td>\n",
       "    </tr>\n",
       "    <tr>\n",
       "      <th>2015-01-03</th>\n",
       "      <td>314.846008</td>\n",
       "      <td>315.149994</td>\n",
       "      <td>281.082001</td>\n",
       "      <td>281.082001</td>\n",
       "      <td>281.082001</td>\n",
       "      <td>33054400</td>\n",
       "      <td>-33.950012</td>\n",
       "    </tr>\n",
       "    <tr>\n",
       "      <th>2015-01-04</th>\n",
       "      <td>281.145996</td>\n",
       "      <td>287.230011</td>\n",
       "      <td>257.612000</td>\n",
       "      <td>264.195007</td>\n",
       "      <td>264.195007</td>\n",
       "      <td>55629100</td>\n",
       "      <td>-16.886994</td>\n",
       "    </tr>\n",
       "    <tr>\n",
       "      <th>2015-01-05</th>\n",
       "      <td>265.084015</td>\n",
       "      <td>278.341003</td>\n",
       "      <td>265.084015</td>\n",
       "      <td>274.473999</td>\n",
       "      <td>274.473999</td>\n",
       "      <td>43962800</td>\n",
       "      <td>10.278992</td>\n",
       "    </tr>\n",
       "    <tr>\n",
       "      <th>...</th>\n",
       "      <td>...</td>\n",
       "      <td>...</td>\n",
       "      <td>...</td>\n",
       "      <td>...</td>\n",
       "      <td>...</td>\n",
       "      <td>...</td>\n",
       "      <td>...</td>\n",
       "    </tr>\n",
       "    <tr>\n",
       "      <th>2021-12-27</th>\n",
       "      <td>50802.609375</td>\n",
       "      <td>51956.328125</td>\n",
       "      <td>50499.468750</td>\n",
       "      <td>50640.417969</td>\n",
       "      <td>50640.417969</td>\n",
       "      <td>24324345758</td>\n",
       "      <td>-169.097656</td>\n",
       "    </tr>\n",
       "    <tr>\n",
       "      <th>2021-12-28</th>\n",
       "      <td>50679.859375</td>\n",
       "      <td>50679.859375</td>\n",
       "      <td>47414.210938</td>\n",
       "      <td>47588.855469</td>\n",
       "      <td>47588.855469</td>\n",
       "      <td>33430376883</td>\n",
       "      <td>-3051.562500</td>\n",
       "    </tr>\n",
       "    <tr>\n",
       "      <th>2021-12-29</th>\n",
       "      <td>47623.871094</td>\n",
       "      <td>48119.742188</td>\n",
       "      <td>46201.496094</td>\n",
       "      <td>46444.710938</td>\n",
       "      <td>46444.710938</td>\n",
       "      <td>30049226299</td>\n",
       "      <td>-1144.144531</td>\n",
       "    </tr>\n",
       "    <tr>\n",
       "      <th>2021-12-30</th>\n",
       "      <td>46490.605469</td>\n",
       "      <td>47879.964844</td>\n",
       "      <td>46060.312500</td>\n",
       "      <td>47178.125000</td>\n",
       "      <td>47178.125000</td>\n",
       "      <td>26686491018</td>\n",
       "      <td>733.414062</td>\n",
       "    </tr>\n",
       "    <tr>\n",
       "      <th>2021-12-31</th>\n",
       "      <td>47169.371094</td>\n",
       "      <td>48472.527344</td>\n",
       "      <td>45819.953125</td>\n",
       "      <td>46306.445313</td>\n",
       "      <td>46306.445313</td>\n",
       "      <td>36974172400</td>\n",
       "      <td>-871.679687</td>\n",
       "    </tr>\n",
       "  </tbody>\n",
       "</table>\n",
       "<p>2557 rows × 7 columns</p>\n",
       "</div>"
      ],
      "text/plain": [
       "                    Open          High           Low         Close  \\\n",
       "Date                                                                 \n",
       "2015-01-01    320.434998    320.434998    314.002991    314.248993   \n",
       "2015-01-02    314.079010    315.838989    313.565002    315.032013   \n",
       "2015-01-03    314.846008    315.149994    281.082001    281.082001   \n",
       "2015-01-04    281.145996    287.230011    257.612000    264.195007   \n",
       "2015-01-05    265.084015    278.341003    265.084015    274.473999   \n",
       "...                  ...           ...           ...           ...   \n",
       "2021-12-27  50802.609375  51956.328125  50499.468750  50640.417969   \n",
       "2021-12-28  50679.859375  50679.859375  47414.210938  47588.855469   \n",
       "2021-12-29  47623.871094  48119.742188  46201.496094  46444.710938   \n",
       "2021-12-30  46490.605469  47879.964844  46060.312500  47178.125000   \n",
       "2021-12-31  47169.371094  48472.527344  45819.953125  46306.445313   \n",
       "\n",
       "               Adj Close       Volume   Difference  \n",
       "Date                                                \n",
       "2015-01-01    314.248993      8036550          NaN  \n",
       "2015-01-02    315.032013      7860650     0.783020  \n",
       "2015-01-03    281.082001     33054400   -33.950012  \n",
       "2015-01-04    264.195007     55629100   -16.886994  \n",
       "2015-01-05    274.473999     43962800    10.278992  \n",
       "...                  ...          ...          ...  \n",
       "2021-12-27  50640.417969  24324345758  -169.097656  \n",
       "2021-12-28  47588.855469  33430376883 -3051.562500  \n",
       "2021-12-29  46444.710938  30049226299 -1144.144531  \n",
       "2021-12-30  47178.125000  26686491018   733.414062  \n",
       "2021-12-31  46306.445313  36974172400  -871.679687  \n",
       "\n",
       "[2557 rows x 7 columns]"
      ]
     },
     "execution_count": 8,
     "metadata": {},
     "output_type": "execute_result"
    }
   ],
   "source": [
    "btc"
   ]
  },
  {
   "cell_type": "code",
   "execution_count": 9,
   "id": "ee7643df",
   "metadata": {},
   "outputs": [
    {
     "name": "stdout",
     "output_type": "stream",
     "text": [
      "(-7.859861938814749, 5.319827990868769e-12, 27, 2528, {'1%': -3.432939379929173, '5%': -2.862683979868293, '10%': -2.5673789838429837}, 40754.75329762928)\n",
      "ADF Test Statistic: -7.86\n",
      "5% Critical Value: -2.86\n",
      "p-value: 0.00\n"
     ]
    }
   ],
   "source": [
    "result = adfuller(btc.Difference.dropna())\n",
    "print(result)\n",
    "print('ADF Test Statistic: %.2f' % result[0])\n",
    "print('5%% Critical Value: %.2f' % result[4]['5%'])\n",
    "print('p-value: %.2f' % result[1])"
   ]
  },
  {
   "cell_type": "code",
   "execution_count": 10,
   "id": "26dba1e8",
   "metadata": {},
   "outputs": [
    {
     "data": {
      "text/html": [
       "<div>\n",
       "<style scoped>\n",
       "    .dataframe tbody tr th:only-of-type {\n",
       "        vertical-align: middle;\n",
       "    }\n",
       "\n",
       "    .dataframe tbody tr th {\n",
       "        vertical-align: top;\n",
       "    }\n",
       "\n",
       "    .dataframe thead th {\n",
       "        text-align: right;\n",
       "    }\n",
       "</style>\n",
       "<table border=\"1\" class=\"dataframe\">\n",
       "  <thead>\n",
       "    <tr style=\"text-align: right;\">\n",
       "      <th></th>\n",
       "      <th>Open</th>\n",
       "      <th>High</th>\n",
       "      <th>Low</th>\n",
       "      <th>Close</th>\n",
       "      <th>Adj Close</th>\n",
       "      <th>Volume</th>\n",
       "      <th>Difference</th>\n",
       "    </tr>\n",
       "    <tr>\n",
       "      <th>Date</th>\n",
       "      <th></th>\n",
       "      <th></th>\n",
       "      <th></th>\n",
       "      <th></th>\n",
       "      <th></th>\n",
       "      <th></th>\n",
       "      <th></th>\n",
       "    </tr>\n",
       "  </thead>\n",
       "  <tbody>\n",
       "    <tr>\n",
       "      <th>2015-01-01</th>\n",
       "      <td>320.434998</td>\n",
       "      <td>320.434998</td>\n",
       "      <td>314.002991</td>\n",
       "      <td>314.248993</td>\n",
       "      <td>314.248993</td>\n",
       "      <td>8036550</td>\n",
       "      <td>NaN</td>\n",
       "    </tr>\n",
       "    <tr>\n",
       "      <th>2015-01-02</th>\n",
       "      <td>314.079010</td>\n",
       "      <td>315.838989</td>\n",
       "      <td>313.565002</td>\n",
       "      <td>315.032013</td>\n",
       "      <td>315.032013</td>\n",
       "      <td>7860650</td>\n",
       "      <td>0.783020</td>\n",
       "    </tr>\n",
       "    <tr>\n",
       "      <th>2015-01-03</th>\n",
       "      <td>314.846008</td>\n",
       "      <td>315.149994</td>\n",
       "      <td>281.082001</td>\n",
       "      <td>281.082001</td>\n",
       "      <td>281.082001</td>\n",
       "      <td>33054400</td>\n",
       "      <td>-33.950012</td>\n",
       "    </tr>\n",
       "    <tr>\n",
       "      <th>2015-01-04</th>\n",
       "      <td>281.145996</td>\n",
       "      <td>287.230011</td>\n",
       "      <td>257.612000</td>\n",
       "      <td>264.195007</td>\n",
       "      <td>264.195007</td>\n",
       "      <td>55629100</td>\n",
       "      <td>-16.886994</td>\n",
       "    </tr>\n",
       "    <tr>\n",
       "      <th>2015-01-05</th>\n",
       "      <td>265.084015</td>\n",
       "      <td>278.341003</td>\n",
       "      <td>265.084015</td>\n",
       "      <td>274.473999</td>\n",
       "      <td>274.473999</td>\n",
       "      <td>43962800</td>\n",
       "      <td>10.278992</td>\n",
       "    </tr>\n",
       "    <tr>\n",
       "      <th>...</th>\n",
       "      <td>...</td>\n",
       "      <td>...</td>\n",
       "      <td>...</td>\n",
       "      <td>...</td>\n",
       "      <td>...</td>\n",
       "      <td>...</td>\n",
       "      <td>...</td>\n",
       "    </tr>\n",
       "    <tr>\n",
       "      <th>2021-12-27</th>\n",
       "      <td>50802.609375</td>\n",
       "      <td>51956.328125</td>\n",
       "      <td>50499.468750</td>\n",
       "      <td>50640.417969</td>\n",
       "      <td>50640.417969</td>\n",
       "      <td>24324345758</td>\n",
       "      <td>-169.097656</td>\n",
       "    </tr>\n",
       "    <tr>\n",
       "      <th>2021-12-28</th>\n",
       "      <td>50679.859375</td>\n",
       "      <td>50679.859375</td>\n",
       "      <td>47414.210938</td>\n",
       "      <td>47588.855469</td>\n",
       "      <td>47588.855469</td>\n",
       "      <td>33430376883</td>\n",
       "      <td>-3051.562500</td>\n",
       "    </tr>\n",
       "    <tr>\n",
       "      <th>2021-12-29</th>\n",
       "      <td>47623.871094</td>\n",
       "      <td>48119.742188</td>\n",
       "      <td>46201.496094</td>\n",
       "      <td>46444.710938</td>\n",
       "      <td>46444.710938</td>\n",
       "      <td>30049226299</td>\n",
       "      <td>-1144.144531</td>\n",
       "    </tr>\n",
       "    <tr>\n",
       "      <th>2021-12-30</th>\n",
       "      <td>46490.605469</td>\n",
       "      <td>47879.964844</td>\n",
       "      <td>46060.312500</td>\n",
       "      <td>47178.125000</td>\n",
       "      <td>47178.125000</td>\n",
       "      <td>26686491018</td>\n",
       "      <td>733.414062</td>\n",
       "    </tr>\n",
       "    <tr>\n",
       "      <th>2021-12-31</th>\n",
       "      <td>47169.371094</td>\n",
       "      <td>48472.527344</td>\n",
       "      <td>45819.953125</td>\n",
       "      <td>46306.445313</td>\n",
       "      <td>46306.445313</td>\n",
       "      <td>36974172400</td>\n",
       "      <td>-871.679687</td>\n",
       "    </tr>\n",
       "  </tbody>\n",
       "</table>\n",
       "<p>2557 rows × 7 columns</p>\n",
       "</div>"
      ],
      "text/plain": [
       "                    Open          High           Low         Close  \\\n",
       "Date                                                                 \n",
       "2015-01-01    320.434998    320.434998    314.002991    314.248993   \n",
       "2015-01-02    314.079010    315.838989    313.565002    315.032013   \n",
       "2015-01-03    314.846008    315.149994    281.082001    281.082001   \n",
       "2015-01-04    281.145996    287.230011    257.612000    264.195007   \n",
       "2015-01-05    265.084015    278.341003    265.084015    274.473999   \n",
       "...                  ...           ...           ...           ...   \n",
       "2021-12-27  50802.609375  51956.328125  50499.468750  50640.417969   \n",
       "2021-12-28  50679.859375  50679.859375  47414.210938  47588.855469   \n",
       "2021-12-29  47623.871094  48119.742188  46201.496094  46444.710938   \n",
       "2021-12-30  46490.605469  47879.964844  46060.312500  47178.125000   \n",
       "2021-12-31  47169.371094  48472.527344  45819.953125  46306.445313   \n",
       "\n",
       "               Adj Close       Volume   Difference  \n",
       "Date                                                \n",
       "2015-01-01    314.248993      8036550          NaN  \n",
       "2015-01-02    315.032013      7860650     0.783020  \n",
       "2015-01-03    281.082001     33054400   -33.950012  \n",
       "2015-01-04    264.195007     55629100   -16.886994  \n",
       "2015-01-05    274.473999     43962800    10.278992  \n",
       "...                  ...          ...          ...  \n",
       "2021-12-27  50640.417969  24324345758  -169.097656  \n",
       "2021-12-28  47588.855469  33430376883 -3051.562500  \n",
       "2021-12-29  46444.710938  30049226299 -1144.144531  \n",
       "2021-12-30  47178.125000  26686491018   733.414062  \n",
       "2021-12-31  46306.445313  36974172400  -871.679687  \n",
       "\n",
       "[2557 rows x 7 columns]"
      ]
     },
     "execution_count": 10,
     "metadata": {},
     "output_type": "execute_result"
    }
   ],
   "source": [
    "# p-value is normalized\n",
    "btc"
   ]
  },
  {
   "cell_type": "code",
   "execution_count": 22,
   "id": "9a891329",
   "metadata": {},
   "outputs": [
    {
     "data": {
      "image/png": "[encoded data removed]",
      "text/plain": [
       "<Figure size 432x288 with 1 Axes>"
      ]
     },
     "metadata": {
      "needs_background": "light"
     },
     "output_type": "display_data"
    }
   ],
   "source": [
    "\n",
    "# Use the Autocorrelation function\n",
    "# from the statsmodel library passing\n",
    "# our DataFrame object in as the data\n",
    "# Note: Limiting Lags to 50\n",
    "plot_acf(btc['Close'], lags = 50)\n",
    "# Show the AR as a plot\n",
    "plt.show()"
   ]
  },
  {
   "cell_type": "code",
   "execution_count": 25,
   "id": "c97656f6",
   "metadata": {},
   "outputs": [],
   "source": [
    "# splitting data \n",
    "#now we split data, to create model and do prediction\n",
    "import numpy as np\n",
    "from sklearn.model_selection import train_test_split\n",
    "train, test = train_test_split(btc['Diff'])"
   ]
  },
  {
   "cell_type": "code",
   "execution_count": 33,
   "id": "bb96f763",
   "metadata": {},
   "outputs": [
    {
     "data": {
      "text/html": [
       "<div>\n",
       "<style scoped>\n",
       "    .dataframe tbody tr th:only-of-type {\n",
       "        vertical-align: middle;\n",
       "    }\n",
       "\n",
       "    .dataframe tbody tr th {\n",
       "        vertical-align: top;\n",
       "    }\n",
       "\n",
       "    .dataframe thead th {\n",
       "        text-align: right;\n",
       "    }\n",
       "</style>\n",
       "<table border=\"1\" class=\"dataframe\">\n",
       "  <thead>\n",
       "    <tr style=\"text-align: right;\">\n",
       "      <th></th>\n",
       "      <th>Open</th>\n",
       "      <th>High</th>\n",
       "      <th>Low</th>\n",
       "      <th>Close</th>\n",
       "      <th>Adj Close</th>\n",
       "      <th>Volume</th>\n",
       "      <th>Difference</th>\n",
       "    </tr>\n",
       "    <tr>\n",
       "      <th>Date</th>\n",
       "      <th></th>\n",
       "      <th></th>\n",
       "      <th></th>\n",
       "      <th></th>\n",
       "      <th></th>\n",
       "      <th></th>\n",
       "      <th></th>\n",
       "    </tr>\n",
       "  </thead>\n",
       "  <tbody>\n",
       "    <tr>\n",
       "      <th>2017-04-23</th>\n",
       "      <td>1231.920044</td>\n",
       "      <td>1232.199951</td>\n",
       "      <td>1203.939941</td>\n",
       "      <td>1207.209961</td>\n",
       "      <td>1207.209961</td>\n",
       "      <td>258951008</td>\n",
       "      <td>-24.500000</td>\n",
       "    </tr>\n",
       "    <tr>\n",
       "      <th>2017-04-24</th>\n",
       "      <td>1209.630005</td>\n",
       "      <td>1250.939941</td>\n",
       "      <td>1209.630005</td>\n",
       "      <td>1250.150024</td>\n",
       "      <td>1250.150024</td>\n",
       "      <td>235806000</td>\n",
       "      <td>42.940063</td>\n",
       "    </tr>\n",
       "    <tr>\n",
       "      <th>2017-04-25</th>\n",
       "      <td>1250.449951</td>\n",
       "      <td>1267.579956</td>\n",
       "      <td>1249.969971</td>\n",
       "      <td>1265.489990</td>\n",
       "      <td>1265.489990</td>\n",
       "      <td>242556000</td>\n",
       "      <td>15.339966</td>\n",
       "    </tr>\n",
       "    <tr>\n",
       "      <th>2017-04-26</th>\n",
       "      <td>1265.989990</td>\n",
       "      <td>1294.829956</td>\n",
       "      <td>1265.930054</td>\n",
       "      <td>1281.079956</td>\n",
       "      <td>1281.079956</td>\n",
       "      <td>329631008</td>\n",
       "      <td>15.589966</td>\n",
       "    </tr>\n",
       "    <tr>\n",
       "      <th>2017-04-27</th>\n",
       "      <td>1281.880005</td>\n",
       "      <td>1319.699951</td>\n",
       "      <td>1281.300049</td>\n",
       "      <td>1317.729980</td>\n",
       "      <td>1317.729980</td>\n",
       "      <td>449196992</td>\n",
       "      <td>36.650024</td>\n",
       "    </tr>\n",
       "    <tr>\n",
       "      <th>...</th>\n",
       "      <td>...</td>\n",
       "      <td>...</td>\n",
       "      <td>...</td>\n",
       "      <td>...</td>\n",
       "      <td>...</td>\n",
       "      <td>...</td>\n",
       "      <td>...</td>\n",
       "    </tr>\n",
       "    <tr>\n",
       "      <th>2021-12-27</th>\n",
       "      <td>50802.609375</td>\n",
       "      <td>51956.328125</td>\n",
       "      <td>50499.468750</td>\n",
       "      <td>50640.417969</td>\n",
       "      <td>50640.417969</td>\n",
       "      <td>24324345758</td>\n",
       "      <td>-169.097656</td>\n",
       "    </tr>\n",
       "    <tr>\n",
       "      <th>2021-12-28</th>\n",
       "      <td>50679.859375</td>\n",
       "      <td>50679.859375</td>\n",
       "      <td>47414.210938</td>\n",
       "      <td>47588.855469</td>\n",
       "      <td>47588.855469</td>\n",
       "      <td>33430376883</td>\n",
       "      <td>-3051.562500</td>\n",
       "    </tr>\n",
       "    <tr>\n",
       "      <th>2021-12-29</th>\n",
       "      <td>47623.871094</td>\n",
       "      <td>48119.742188</td>\n",
       "      <td>46201.496094</td>\n",
       "      <td>46444.710938</td>\n",
       "      <td>46444.710938</td>\n",
       "      <td>30049226299</td>\n",
       "      <td>-1144.144531</td>\n",
       "    </tr>\n",
       "    <tr>\n",
       "      <th>2021-12-30</th>\n",
       "      <td>46490.605469</td>\n",
       "      <td>47879.964844</td>\n",
       "      <td>46060.312500</td>\n",
       "      <td>47178.125000</td>\n",
       "      <td>47178.125000</td>\n",
       "      <td>26686491018</td>\n",
       "      <td>733.414062</td>\n",
       "    </tr>\n",
       "    <tr>\n",
       "      <th>2021-12-31</th>\n",
       "      <td>47169.371094</td>\n",
       "      <td>48472.527344</td>\n",
       "      <td>45819.953125</td>\n",
       "      <td>46306.445313</td>\n",
       "      <td>46306.445313</td>\n",
       "      <td>36974172400</td>\n",
       "      <td>-871.679687</td>\n",
       "    </tr>\n",
       "  </tbody>\n",
       "</table>\n",
       "<p>1714 rows × 7 columns</p>\n",
       "</div>"
      ],
      "text/plain": [
       "                    Open          High           Low         Close  \\\n",
       "Date                                                                 \n",
       "2017-04-23   1231.920044   1232.199951   1203.939941   1207.209961   \n",
       "2017-04-24   1209.630005   1250.939941   1209.630005   1250.150024   \n",
       "2017-04-25   1250.449951   1267.579956   1249.969971   1265.489990   \n",
       "2017-04-26   1265.989990   1294.829956   1265.930054   1281.079956   \n",
       "2017-04-27   1281.880005   1319.699951   1281.300049   1317.729980   \n",
       "...                  ...           ...           ...           ...   \n",
       "2021-12-27  50802.609375  51956.328125  50499.468750  50640.417969   \n",
       "2021-12-28  50679.859375  50679.859375  47414.210938  47588.855469   \n",
       "2021-12-29  47623.871094  48119.742188  46201.496094  46444.710938   \n",
       "2021-12-30  46490.605469  47879.964844  46060.312500  47178.125000   \n",
       "2021-12-31  47169.371094  48472.527344  45819.953125  46306.445313   \n",
       "\n",
       "               Adj Close       Volume   Difference  \n",
       "Date                                                \n",
       "2017-04-23   1207.209961    258951008   -24.500000  \n",
       "2017-04-24   1250.150024    235806000    42.940063  \n",
       "2017-04-25   1265.489990    242556000    15.339966  \n",
       "2017-04-26   1281.079956    329631008    15.589966  \n",
       "2017-04-27   1317.729980    449196992    36.650024  \n",
       "...                  ...          ...          ...  \n",
       "2021-12-27  50640.417969  24324345758  -169.097656  \n",
       "2021-12-28  47588.855469  33430376883 -3051.562500  \n",
       "2021-12-29  46444.710938  30049226299 -1144.144531  \n",
       "2021-12-30  47178.125000  26686491018   733.414062  \n",
       "2021-12-31  46306.445313  36974172400  -871.679687  \n",
       "\n",
       "[1714 rows x 7 columns]"
      ]
     },
     "execution_count": 33,
     "metadata": {},
     "output_type": "execute_result"
    }
   ],
   "source": [
    "train_set"
   ]
  },
  {
   "cell_type": "code",
   "execution_count": 34,
   "id": "61fd9aff",
   "metadata": {},
   "outputs": [
    {
     "data": {
      "text/html": [
       "<div>\n",
       "<style scoped>\n",
       "    .dataframe tbody tr th:only-of-type {\n",
       "        vertical-align: middle;\n",
       "    }\n",
       "\n",
       "    .dataframe tbody tr th {\n",
       "        vertical-align: top;\n",
       "    }\n",
       "\n",
       "    .dataframe thead th {\n",
       "        text-align: right;\n",
       "    }\n",
       "</style>\n",
       "<table border=\"1\" class=\"dataframe\">\n",
       "  <thead>\n",
       "    <tr style=\"text-align: right;\">\n",
       "      <th></th>\n",
       "      <th>Open</th>\n",
       "      <th>High</th>\n",
       "      <th>Low</th>\n",
       "      <th>Close</th>\n",
       "      <th>Adj Close</th>\n",
       "      <th>Volume</th>\n",
       "      <th>Difference</th>\n",
       "    </tr>\n",
       "    <tr>\n",
       "      <th>Date</th>\n",
       "      <th></th>\n",
       "      <th></th>\n",
       "      <th></th>\n",
       "      <th></th>\n",
       "      <th></th>\n",
       "      <th></th>\n",
       "      <th></th>\n",
       "    </tr>\n",
       "  </thead>\n",
       "  <tbody>\n",
       "    <tr>\n",
       "      <th>2015-01-01</th>\n",
       "      <td>320.434998</td>\n",
       "      <td>320.434998</td>\n",
       "      <td>314.002991</td>\n",
       "      <td>314.248993</td>\n",
       "      <td>314.248993</td>\n",
       "      <td>8036550</td>\n",
       "      <td>NaN</td>\n",
       "    </tr>\n",
       "    <tr>\n",
       "      <th>2015-01-02</th>\n",
       "      <td>314.079010</td>\n",
       "      <td>315.838989</td>\n",
       "      <td>313.565002</td>\n",
       "      <td>315.032013</td>\n",
       "      <td>315.032013</td>\n",
       "      <td>7860650</td>\n",
       "      <td>0.783020</td>\n",
       "    </tr>\n",
       "    <tr>\n",
       "      <th>2015-01-03</th>\n",
       "      <td>314.846008</td>\n",
       "      <td>315.149994</td>\n",
       "      <td>281.082001</td>\n",
       "      <td>281.082001</td>\n",
       "      <td>281.082001</td>\n",
       "      <td>33054400</td>\n",
       "      <td>-33.950012</td>\n",
       "    </tr>\n",
       "    <tr>\n",
       "      <th>2015-01-04</th>\n",
       "      <td>281.145996</td>\n",
       "      <td>287.230011</td>\n",
       "      <td>257.612000</td>\n",
       "      <td>264.195007</td>\n",
       "      <td>264.195007</td>\n",
       "      <td>55629100</td>\n",
       "      <td>-16.886994</td>\n",
       "    </tr>\n",
       "    <tr>\n",
       "      <th>2015-01-05</th>\n",
       "      <td>265.084015</td>\n",
       "      <td>278.341003</td>\n",
       "      <td>265.084015</td>\n",
       "      <td>274.473999</td>\n",
       "      <td>274.473999</td>\n",
       "      <td>43962800</td>\n",
       "      <td>10.278992</td>\n",
       "    </tr>\n",
       "    <tr>\n",
       "      <th>...</th>\n",
       "      <td>...</td>\n",
       "      <td>...</td>\n",
       "      <td>...</td>\n",
       "      <td>...</td>\n",
       "      <td>...</td>\n",
       "      <td>...</td>\n",
       "      <td>...</td>\n",
       "    </tr>\n",
       "    <tr>\n",
       "      <th>2017-04-18</th>\n",
       "      <td>1193.770020</td>\n",
       "      <td>1217.569946</td>\n",
       "      <td>1193.770020</td>\n",
       "      <td>1211.670044</td>\n",
       "      <td>1211.670044</td>\n",
       "      <td>270524000</td>\n",
       "      <td>17.760010</td>\n",
       "    </tr>\n",
       "    <tr>\n",
       "      <th>2017-04-19</th>\n",
       "      <td>1212.130005</td>\n",
       "      <td>1215.510010</td>\n",
       "      <td>1205.079956</td>\n",
       "      <td>1210.290039</td>\n",
       "      <td>1210.290039</td>\n",
       "      <td>288060992</td>\n",
       "      <td>-1.380005</td>\n",
       "    </tr>\n",
       "    <tr>\n",
       "      <th>2017-04-20</th>\n",
       "      <td>1211.079956</td>\n",
       "      <td>1240.790039</td>\n",
       "      <td>1208.410034</td>\n",
       "      <td>1229.079956</td>\n",
       "      <td>1229.079956</td>\n",
       "      <td>315108000</td>\n",
       "      <td>18.789917</td>\n",
       "    </tr>\n",
       "    <tr>\n",
       "      <th>2017-04-21</th>\n",
       "      <td>1229.420044</td>\n",
       "      <td>1235.939941</td>\n",
       "      <td>1215.560059</td>\n",
       "      <td>1222.050049</td>\n",
       "      <td>1222.050049</td>\n",
       "      <td>272167008</td>\n",
       "      <td>-7.029907</td>\n",
       "    </tr>\n",
       "    <tr>\n",
       "      <th>2017-04-22</th>\n",
       "      <td>1222.709961</td>\n",
       "      <td>1235.560059</td>\n",
       "      <td>1208.469971</td>\n",
       "      <td>1231.709961</td>\n",
       "      <td>1231.709961</td>\n",
       "      <td>249320000</td>\n",
       "      <td>9.659912</td>\n",
       "    </tr>\n",
       "  </tbody>\n",
       "</table>\n",
       "<p>843 rows × 7 columns</p>\n",
       "</div>"
      ],
      "text/plain": [
       "                   Open         High          Low        Close    Adj Close  \\\n",
       "Date                                                                          \n",
       "2015-01-01   320.434998   320.434998   314.002991   314.248993   314.248993   \n",
       "2015-01-02   314.079010   315.838989   313.565002   315.032013   315.032013   \n",
       "2015-01-03   314.846008   315.149994   281.082001   281.082001   281.082001   \n",
       "2015-01-04   281.145996   287.230011   257.612000   264.195007   264.195007   \n",
       "2015-01-05   265.084015   278.341003   265.084015   274.473999   274.473999   \n",
       "...                 ...          ...          ...          ...          ...   \n",
       "2017-04-18  1193.770020  1217.569946  1193.770020  1211.670044  1211.670044   \n",
       "2017-04-19  1212.130005  1215.510010  1205.079956  1210.290039  1210.290039   \n",
       "2017-04-20  1211.079956  1240.790039  1208.410034  1229.079956  1229.079956   \n",
       "2017-04-21  1229.420044  1235.939941  1215.560059  1222.050049  1222.050049   \n",
       "2017-04-22  1222.709961  1235.560059  1208.469971  1231.709961  1231.709961   \n",
       "\n",
       "               Volume  Difference  \n",
       "Date                               \n",
       "2015-01-01    8036550         NaN  \n",
       "2015-01-02    7860650    0.783020  \n",
       "2015-01-03   33054400  -33.950012  \n",
       "2015-01-04   55629100  -16.886994  \n",
       "2015-01-05   43962800   10.278992  \n",
       "...               ...         ...  \n",
       "2017-04-18  270524000   17.760010  \n",
       "2017-04-19  288060992   -1.380005  \n",
       "2017-04-20  315108000   18.789917  \n",
       "2017-04-21  272167008   -7.029907  \n",
       "2017-04-22  249320000    9.659912  \n",
       "\n",
       "[843 rows x 7 columns]"
      ]
     },
     "execution_count": 34,
     "metadata": {},
     "output_type": "execute_result"
    }
   ],
   "source": [
    "test_set"
   ]
  },
  {
   "cell_type": "code",
   "execution_count": 35,
   "id": "8a53e29d",
   "metadata": {},
   "outputs": [
    {
     "name": "stdout",
     "output_type": "stream",
     "text": [
      "rho: [-0.98700268 -0.010951  ]\n",
      "sigma: 1100.1573680572128\n"
     ]
    }
   ],
   "source": [
    "# implement model on train set\n",
    "# Try a AR(4) model\n",
    "from statsmodels.regression.linear_model import yule_walker\n",
    "rho, sigma = yule_walker(train_set['Close'], 2)\n",
    "print(f'rho: {-rho}')\n",
    "print(f'sigma: {sigma}')\n",
    "# sigma? \n",
    "# rho?  "
   ]
  },
  {
   "cell_type": "code",
   "execution_count": 20,
   "id": "0d1fb0b8",
   "metadata": {},
   "outputs": [
    {
     "data": {
      "image/png": "[encoded data removed]",
      "text/plain": [
       "<Figure size 432x288 with 1 Axes>"
      ]
     },
     "metadata": {
      "needs_background": "light"
     },
     "output_type": "display_data"
    }
   ],
   "source": [
    "from statsmodels.graphics.tsaplots import plot_acf\n",
    "# Calculate the ACF (via statsmodel)\n",
    "plot_acf(btc['Close'], lags=129)\n",
    "# Show the data as a plot (via matplotlib)\n",
    "plt.show()"
   ]
  },
  {
   "cell_type": "code",
   "execution_count": 21,
   "id": "0847aac0",
   "metadata": {},
   "outputs": [
    {
     "data": {
      "image/png": "[encoded data removed]",
      "text/plain": [
       "<Figure size 432x288 with 1 Axes>"
      ]
     },
     "metadata": {
      "needs_background": "light"
     },
     "output_type": "display_data"
    }
   ],
   "source": [
    "from statsmodels.graphics.tsaplots import plot_acf , plot_pacf\n",
    "plot_pacf(btc['Close'], alpha =0.05, lags=129)\n",
    "plt.show()"
   ]
  },
  {
   "cell_type": "code",
   "execution_count": 26,
   "id": "0dd21db4",
   "metadata": {},
   "outputs": [
    {
     "data": {
      "text/plain": [
       "Date\n",
       "2015-01-01            NaN\n",
       "2015-01-02       0.783020\n",
       "2015-01-03     -33.950012\n",
       "2015-01-05      10.278992\n",
       "2015-01-06      11.714996\n",
       "                 ...     \n",
       "2021-12-24      37.656250\n",
       "2021-12-26     379.656250\n",
       "2021-12-27    -169.097656\n",
       "2021-12-28   -3051.562500\n",
       "2021-12-29   -1144.144531\n",
       "Name: Diff, Length: 1917, dtype: float64"
      ]
     },
     "execution_count": 26,
     "metadata": {},
     "output_type": "execute_result"
    }
   ],
   "source": [
    "train.sort_index() #We need to sort car la fonction prend 25% eT 75% au hazard et donc en desordre ( pas possible ensuite de faire des predictions"
   ]
  },
  {
   "cell_type": "code",
   "execution_count": 28,
   "id": "dfc4f886",
   "metadata": {},
   "outputs": [],
   "source": [
    "index= btc.shape[0]-500\n",
    "train, test = btc['Diff'][0:index], btc['Diff'][index:]"
   ]
  },
  {
   "cell_type": "code",
   "execution_count": 29,
   "id": "7f26b3a7",
   "metadata": {},
   "outputs": [
    {
     "data": {
      "text/plain": [
       "Date\n",
       "2020-08-19    -232.950195\n",
       "2020-08-20     120.088867\n",
       "2020-08-21    -285.882812\n",
       "2020-08-22      89.335937\n",
       "2020-08-23     -16.977539\n",
       "                 ...     \n",
       "2021-12-27    -169.097656\n",
       "2021-12-28   -3051.562500\n",
       "2021-12-29   -1144.144531\n",
       "2021-12-30     733.414062\n",
       "2021-12-31    -871.679687\n",
       "Name: Diff, Length: 500, dtype: float64"
      ]
     },
     "execution_count": 29,
     "metadata": {},
     "output_type": "execute_result"
    }
   ],
   "source": [
    "test"
   ]
  },
  {
   "cell_type": "code",
   "execution_count": 30,
   "id": "8367f097",
   "metadata": {},
   "outputs": [
    {
     "data": {
      "text/plain": [
       "Timestamp('2020-08-19 00:00:00')"
      ]
     },
     "execution_count": 30,
     "metadata": {},
     "output_type": "execute_result"
    }
   ],
   "source": [
    "test.index[0]"
   ]
  },
  {
   "cell_type": "code",
   "execution_count": 31,
   "id": "3f28f0aa",
   "metadata": {},
   "outputs": [
    {
     "name": "stderr",
     "output_type": "stream",
     "text": [
      "C:\\ProgramData\\Anaconda3\\lib\\site-packages\\statsmodels\\tsa\\arima_model.py:472: FutureWarning: \n",
      "statsmodels.tsa.arima_model.ARMA and statsmodels.tsa.arima_model.ARIMA have\n",
      "been deprecated in favor of statsmodels.tsa.arima.model.ARIMA (note the .\n",
      "between arima and model) and\n",
      "statsmodels.tsa.SARIMAX. These will be removed after the 0.12 release.\n",
      "\n",
      "statsmodels.tsa.arima.model.ARIMA makes use of the statespace framework and\n",
      "is both well tested and maintained.\n",
      "\n",
      "To silence this warning and continue using ARMA and ARIMA until they are\n",
      "removed, use:\n",
      "\n",
      "import warnings\n",
      "warnings.filterwarnings('ignore', 'statsmodels.tsa.arima_model.ARMA',\n",
      "                        FutureWarning)\n",
      "warnings.filterwarnings('ignore', 'statsmodels.tsa.arima_model.ARIMA',\n",
      "                        FutureWarning)\n",
      "\n",
      "  warnings.warn(ARIMA_DEPRECATION_WARN, FutureWarning)\n",
      "C:\\ProgramData\\Anaconda3\\lib\\site-packages\\statsmodels\\tsa\\base\\tsa_model.py:524: ValueWarning: No frequency information was provided, so inferred frequency D will be used.\n",
      "  warnings.warn('No frequency information was'\n"
     ]
    }
   ],
   "source": [
    "from statsmodels.tsa.arima_model import ARMA\n",
    "train=train.dropna()\n",
    "model1 = ARMA(train, order=(1,1))\n",
    "result = model1.fit()"
   ]
  },
  {
   "cell_type": "code",
   "execution_count": 32,
   "id": "90ccf771",
   "metadata": {},
   "outputs": [
    {
     "name": "stderr",
     "output_type": "stream",
     "text": [
      "C:\\ProgramData\\Anaconda3\\lib\\site-packages\\statsmodels\\tsa\\base\\tsa_model.py:132: FutureWarning: The 'freq' argument in Timestamp is deprecated and will be removed in a future version.\n",
      "  date_key = Timestamp(key, freq=base_index.freq)\n",
      "C:\\ProgramData\\Anaconda3\\lib\\site-packages\\statsmodels\\tsa\\arima_model.py:827: SpecificationWarning: \n",
      "The number of observations in exog does not match the number of out-of-sample\n",
      "observations.  This might indicate that exog is not correctly aligned. exog\n",
      "should be aligned so that the exog[0] is used for the first out-of-sample\n",
      "forecast, and exog[-1] is used for the last out-of-sample forecast.\n",
      "exog is not used for in-sample observations which are the fitted values.\n",
      "\n",
      "To silence this warning, ensure the number of observation in exog (500)\n",
      "matches the number of out-of-sample forecasts (500)'\n",
      "\n",
      "  warnings.warn(msg, SpecificationWarning)\n"
     ]
    },
    {
     "data": {
      "text/plain": [
       "2020-08-19    -5.115070\n",
       "2020-08-20    13.943893\n",
       "2020-08-21    -0.648928\n",
       "2020-08-22    10.524314\n",
       "2020-08-23     1.969331\n",
       "                ...    \n",
       "2021-12-27     5.679129\n",
       "2021-12-28     5.679129\n",
       "2021-12-29     5.679129\n",
       "2021-12-30     5.679129\n",
       "2021-12-31     5.679129\n",
       "Freq: D, Length: 500, dtype: float64"
      ]
     },
     "execution_count": 32,
     "metadata": {},
     "output_type": "execute_result"
    }
   ],
   "source": [
    "from statsmodels.tools.eval_measures import rmse\n",
    "pred1=result.predict(start=test.index[0], end=test.index[-1], exog=test)\n",
    "pred1"
   ]
  },
  {
   "cell_type": "code",
   "execution_count": 33,
   "id": "15125793",
   "metadata": {},
   "outputs": [
    {
     "data": {
      "text/plain": [
       "1649.9843567373562"
      ]
     },
     "execution_count": 33,
     "metadata": {},
     "output_type": "execute_result"
    }
   ],
   "source": [
    "from statsmodels.tools.eval_measures import rmse\n",
    "rmse1 = rmse(pred1[1], test)\n",
    "rmse1"
   ]
  },
  {
   "cell_type": "code",
   "execution_count": 34,
   "id": "8aba4c95",
   "metadata": {},
   "outputs": [
    {
     "name": "stderr",
     "output_type": "stream",
     "text": [
      "C:\\ProgramData\\Anaconda3\\lib\\site-packages\\statsmodels\\tsa\\base\\tsa_model.py:524: ValueWarning: No frequency information was provided, so inferred frequency D will be used.\n",
      "  warnings.warn('No frequency information was'\n"
     ]
    },
    {
     "data": {
      "text/plain": [
       "1650.2818915030564"
      ]
     },
     "execution_count": 34,
     "metadata": {},
     "output_type": "execute_result"
    }
   ],
   "source": [
    "model2 = ARMA(train, order=(6,2))\n",
    "result2 = model2.fit()\n",
    "pred2=result2.predict()\n",
    "rmse2 = rmse(pred2[1], test)\n",
    "rmse2"
   ]
  },
  {
   "cell_type": "code",
   "execution_count": 35,
   "id": "16271dbc",
   "metadata": {},
   "outputs": [
    {
     "name": "stderr",
     "output_type": "stream",
     "text": [
      "C:\\ProgramData\\Anaconda3\\lib\\site-packages\\statsmodels\\tsa\\base\\tsa_model.py:524: ValueWarning: No frequency information was provided, so inferred frequency D will be used.\n",
      "  warnings.warn('No frequency information was'\n",
      "C:\\ProgramData\\Anaconda3\\lib\\site-packages\\statsmodels\\tsa\\base\\tsa_model.py:524: ValueWarning: No frequency information was provided, so inferred frequency D will be used.\n",
      "  warnings.warn('No frequency information was'\n",
      "C:\\ProgramData\\Anaconda3\\lib\\site-packages\\statsmodels\\tsa\\base\\tsa_model.py:524: ValueWarning: No frequency information was provided, so inferred frequency D will be used.\n",
      "  warnings.warn('No frequency information was'\n"
     ]
    },
    {
     "data": {
      "text/plain": [
       "1650.2818915030564"
      ]
     },
     "execution_count": 35,
     "metadata": {},
     "output_type": "execute_result"
    }
   ],
   "source": [
    "from statsmodels.tsa.arima.model import ARIMA\n",
    "model3 = ARIMA(train, order=(5,1,0))\n",
    "result3 = model3.fit()\n",
    "pred3=result3.predict()\n",
    "rmse3 = rmse(pred2[1], test)\n",
    "rmse3"
   ]
  },
  {
   "cell_type": "code",
   "execution_count": 36,
   "id": "bb9157e8",
   "metadata": {},
   "outputs": [
    {
     "data": {
      "text/plain": [
       "<AxesSubplot:xlabel='Date'>"
      ]
     },
     "execution_count": 36,
     "metadata": {},
     "output_type": "execute_result"
    },
    {
     "data": {
      "image/png": "[encoded data removed]",
      "text/plain": [
       "<Figure size 432x288 with 1 Axes>"
      ]
     },
     "metadata": {
      "needs_background": "light"
     },
     "output_type": "display_data"
    }
   ],
   "source": [
    "from pandas import DataFrame\n",
    "residuals = DataFrame(result3.resid)\n",
    "residuals.plot()"
   ]
  }
 ],
 "metadata": {
  "kernelspec": {
   "display_name": "Python 3 (ipykernel)",
   "language": "python",
   "name": "python3"
  },
  "language_info": {
   "codemirror_mode": {
    "name": "ipython",
    "version": 3
   },
   "file_extension": ".py",
   "mimetype": "text/x-python",
   "name": "python",
   "nbconvert_exporter": "python",
   "pygments_lexer": "ipython3",
   "version": "3.9.12"
  }
 },
 "nbformat": 4,
 "nbformat_minor": 5
}
