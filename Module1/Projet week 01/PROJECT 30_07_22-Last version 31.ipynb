{
 "cells": [
  {
   "cell_type": "code",
   "execution_count": 2,
   "id": "8da6419b",
   "metadata": {
    "scrolled": true
   },
   "outputs": [
    {
     "name": "stdout",
     "output_type": "stream",
     "text": [
      "your bet 50\n",
      "Player's Hand [1, 10]\n",
      "the dealer's hand is hidden\n",
      "PLAYER do you want to draw a card yes or no?YES\n",
      "please stop drinking & choose just yes or noyes\n",
      "[1, 10, 2]\n",
      "PLAYER do you want to draw a card yes or no?yes\n",
      "([1, 10, 2, 11], 'PLAYER LOST, hand is over 21, Better luck next time')\n"
     ]
    }
   ],
   "source": [
    "card_deck=[10, 7,11, 3, 9, 9, 2,10, 4, 5, 6, 4, 11,10, 5, 8, 2, 10, 1, 9, 8, 8, 3, 11,10,3, 2, 4, 5, 10, 4,11, 10, 5, 10, 1, 3, 10, 6, 7, 10, 9, 7, 1, 6, 8, 6, 10, 1, 2, 10, 7]\n",
    "import random\n",
    "bet= int(input(\"your bet \",  ))\n",
    "cardplayer = []\n",
    "for i in range(2):\n",
    "    random.shuffle(card_deck)\n",
    "    card= card_deck.pop()\n",
    "    cardplayer.append(card)\n",
    "print(\"Player's Hand\",cardplayer)\n",
    "carddealer = []\n",
    "for i in range(2):\n",
    "    random.shuffle(card_deck)\n",
    "    card= card_deck.pop()\n",
    "    carddealer.append(card)\n",
    "print(\"the dealer's hand is hidden\")\n",
    "if sum(cardplayer)== 21:\n",
    "    print(\"PLAYER WINS :BLACKJACK\", \"You Win\", bet*2 ,\"€\")\n",
    "while sum(cardplayer)<21:\n",
    "    answer=input(\"PLAYER do you want to draw a card yes or no?\")\n",
    "    while answer not in [\"yes\",\"no\"]:\n",
    "        a=answer\n",
    "        answer= input(\"please stop drinking & choose just yes or no\" )\n",
    "    if answer == \"yes\":\n",
    "            for i in range(1):\n",
    "                random.shuffle(card_deck)\n",
    "                card= card_deck.pop()\n",
    "                cardplayer.append(card)\n",
    "            print(cardplayer if sum(cardplayer)<=21 else (cardplayer,\"PLAYER LOST, hand is over 21, Better luck next time\")) \n",
    "    if answer == \"no\":\n",
    "        print(\"Hand dealer\",carddealer,  \"Hand player\",cardplayer)\n",
    "        if sum(cardplayer)<sum(carddealer):\n",
    "              print(\"PLAYER LOST, dealer's hand higher\")\n",
    "        elif sum(cardplayer)>sum(carddealer)<17:\n",
    "            while sum(carddealer)<17:\n",
    "                for i in range(1):\n",
    "                    random.shuffle(card_deck)\n",
    "                    card= card_deck.pop()\n",
    "                    carddealer.append(card)\n",
    "                if 16>sum(carddealer):\n",
    "                    print(\"Hand dealer\",carddealer)\n",
    "                    continue\n",
    "                elif 21<sum(carddealer):\n",
    "                    print(\"Hand dealer\",carddealer,\"PLAYER WINS: \", bet*2,\"€\")          \n",
    "                    break\n",
    "                elif sum(carddealer)>sum(cardplayer) :\n",
    "                    print(\"Hand dealer\",carddealer,\"PLAYER LOST, dealer's hand higher \")\n",
    "                    break\n",
    "                else:\n",
    "                    print(\"Hand dealer\",carddealer,\"PLAYER WINS: \" , bet*2,\"€\")\n",
    "            break\n",
    "        else:\n",
    "            print(carddealer,\"TIE\",playercard)\n",
    "        break\n",
    "                                "
   ]
  },
  {
   "cell_type": "code",
   "execution_count": null,
   "id": "cc3d53f0",
   "metadata": {},
   "outputs": [],
   "source": []
  },
  {
   "cell_type": "code",
   "execution_count": null,
   "id": "0dadf1c2",
   "metadata": {},
   "outputs": [],
   "source": []
  },
  {
   "cell_type": "code",
   "execution_count": null,
   "id": "3ed378f8",
   "metadata": {},
   "outputs": [],
   "source": []
  },
  {
   "cell_type": "code",
   "execution_count": null,
   "id": "4e084ba2",
   "metadata": {},
   "outputs": [],
   "source": []
  },
  {
   "cell_type": "markdown",
   "id": "31b35801",
   "metadata": {},
   "source": [
    "There is a possibility that I can't solve:\n",
    "when both hands are equal. (I leave the advantage for the player who is declared the winner).\n",
    "I think it is necessary to limit the change to lowercase characters for (plus and stop). and displayed error if input and numeric.\n",
    "to talk about it.."
   ]
  }
 ],
 "metadata": {
  "kernelspec": {
   "display_name": "Python 3 (ipykernel)",
   "language": "python",
   "name": "python3"
  },
  "language_info": {
   "codemirror_mode": {
    "name": "ipython",
    "version": 3
   },
   "file_extension": ".py",
   "mimetype": "text/x-python",
   "name": "python",
   "nbconvert_exporter": "python",
   "pygments_lexer": "ipython3",
   "version": "3.9.12"
  }
 },
 "nbformat": 4,
 "nbformat_minor": 5
}
